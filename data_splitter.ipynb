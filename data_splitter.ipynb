﻿{
 "cells": [
  {
   "cell_type": "code",
   "id": "initial_id",
   "metadata": {
    "collapsed": true,
    "ExecuteTime": {
     "end_time": "2024-09-17T08:58:30.680406Z",
     "start_time": "2024-09-17T08:58:30.621380Z"
    }
   },
   "source": [
    "import os\n",
    "import cv2\n",
    "import matplotlib.pyplot as plt\n",
    "import numpy as np\n",
    "from PIL import Image\n",
    "from read_files import read_image\n",
    "from preprocessing import *\n",
    "import random\n",
    "from tqdm import tqdm\n",
    "import time\n",
    "%load_ext autoreload\n",
    "%autoreload 2"
   ],
   "execution_count": 11,
   "outputs": []
  },
  {
   "metadata": {
    "ExecuteTime": {
     "end_time": "2024-09-17T08:58:31.052851Z",
     "start_time": "2024-09-17T08:58:30.978077Z"
    }
   },
   "cell_type": "code",
   "source": [
    "def split_data(path_to_data=\"DRIVE/training\", new_path=\"Mod_DRIVE\", size=48, val=5000 ):\n",
    "    \n",
    "    image_files = sorted(os.listdir(path_to_data + \"/images\"))\n",
    "    label_files = sorted(os.listdir(path_to_data + \"/manual\"))\n",
    "    image_paths = [os.path.join(path_to_data + \"/images\", f) for f in image_files]\n",
    "    label_paths = [os.path.join(path_to_data + \"/manual\", f) for f in label_files]\n",
    "    new_path_images = new_path + \"/images\"\n",
    "    new_path_labels = new_path + \"/manual\"\n",
    "    os.makedirs(new_path+\"/images\", exist_ok=True)\n",
    "    os.makedirs(new_path+\"/manual\", exist_ok=True)\n",
    "    for image_path, label_path, image_file, label_file in tqdm(zip(image_paths, label_paths, image_files, label_files), desc=\"Processing\"):\n",
    "        select_patches([image_path, label_path],size=size, val=val, np=new_path, imn=image_file, lbn=label_file)\n",
    "    \n",
    "def select_patches(data, size=48, val=10000, np=\"\", imn=\"\", lbn=\"\"):\n",
    "    image = read_image(data[0])\n",
    "    label = read_image(data[1])\n",
    "    for i in tqdm(range(val), desc=\"Processing images\"):\n",
    "        ptch = get_random_patch(image,label, size)\n",
    "        imn = imn.split(\".\")[0]\n",
    "        lbn = lbn.split(\".\")[0]\n",
    "        cv2.imwrite(np+\"/images/\"+imn + \"_\" + str(i) + \".tif\", ptch[0])\n",
    "        cv2.imwrite(np+\"/manual/\"+lbn + \"_\" + str(i) + \".tif\", ptch[1])\n",
    "        \n",
    "\n",
    "def get_random_patch(image, label, patch_size):\n",
    "    # Get image dimensions\n",
    "    img_height, img_width = image.shape[:2]\n",
    "\n",
    "    # Ensure patch size is smaller than the image dimensions\n",
    "    assert patch_size <= img_height and patch_size <= img_width, \"Patch size is larger than the image.\"\n",
    "\n",
    "    # Randomly select the top-left corner of the patch\n",
    "    x = random.randint(0, img_width - patch_size)\n",
    "    y = random.randint(0, img_height - patch_size)\n",
    "\n",
    "    # Extract patches from image and label\n",
    "    patch_img = image[y:y+patch_size, x:x+patch_size]\n",
    "    patch_label = label[y:y+patch_size, x:x+patch_size]\n",
    "\n",
    "    return patch_img, patch_label"
   ],
   "id": "9ae0626b534a36c6",
   "execution_count": 12,
   "outputs": []
  },
  {
   "metadata": {
    "ExecuteTime": {
     "end_time": "2024-09-17T08:41:38.848377Z",
     "start_time": "2024-09-17T08:41:38.833861Z"
    }
   },
   "cell_type": "code",
   "source": "",
   "id": "96262298adc85e29",
   "execution_count": 20,
   "outputs": []
  },
  {
   "metadata": {
    "ExecuteTime": {
     "end_time": "2024-09-17T08:41:39.284010Z",
     "start_time": "2024-09-17T08:41:39.221108Z"
    }
   },
   "cell_type": "code",
   "source": "#select_patches([\"DRIVE/training/images/21_training.tif\", \"DRIVE/training/manual/21_manual1.gif\"], np=\"Mod_DRIVE\", imn=\"21_training.tif\", lbn=\"21_manual1.gif\")",
   "id": "e304facef9b0d488",
   "execution_count": 21,
   "outputs": []
  },
  {
   "metadata": {
    "ExecuteTime": {
     "end_time": "2024-09-17T09:00:32.633373Z",
     "start_time": "2024-09-17T08:59:58.687632Z"
    }
   },
   "cell_type": "code",
   "source": "split_data(val=1000, size=64)",
   "id": "c461c5835cd3df5c",
   "execution_count": 14,
   "outputs": []
  },
  {
   "metadata": {
    "ExecuteTime": {
     "end_time": "2024-09-17T07:34:25.536337Z",
     "start_time": "2024-09-17T07:34:25.520742Z"
    }
   },
   "cell_type": "code",
   "source": "",
   "id": "4ba4b01adabcfb23",
   "execution_count": 1,
   "outputs": []
  },
  {
   "metadata": {
    "ExecuteTime": {
     "end_time": "2024-09-17T07:34:25.551962Z",
     "start_time": "2024-09-17T07:34:25.536337Z"
    }
   },
   "cell_type": "code",
   "source": "",
   "id": "707925fa4e4e962d",
   "execution_count": 1,
   "outputs": []
  },
  {
   "metadata": {
    "ExecuteTime": {
     "end_time": "2024-09-17T07:34:25.567591Z",
     "start_time": "2024-09-17T07:34:25.551962Z"
    }
   },
   "cell_type": "code",
   "source": "",
   "id": "bf20ae5e1ff178d6",
   "execution_count": 1,
   "outputs": []
  },
  {
   "metadata": {},
   "cell_type": "code",
   "execution_count": null,
   "source": "",
   "id": "2d0564c1ab395db3",
   "outputs": []
  }
 ],
 "metadata": {
  "kernelspec": {
   "display_name": "Python 3",
   "language": "python",
   "name": "python3"
  },
  "language_info": {
   "codemirror_mode": {
    "name": "ipython",
    "version": 2
   },
   "file_extension": ".py",
   "mimetype": "text/x-python",
   "name": "python",
   "nbconvert_exporter": "python",
   "pygments_lexer": "ipython2",
   "version": "2.7.6"
  }
 },
 "nbformat": 4,
 "nbformat_minor": 5
}
