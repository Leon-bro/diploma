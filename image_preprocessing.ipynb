﻿{
 "cells": [
  {
   "cell_type": "code",
   "id": "initial_id",
   "metadata": {
    "collapsed": true,
    "ExecuteTime": {
     "end_time": "2024-10-13T08:15:46.127076Z",
     "start_time": "2024-10-13T08:15:45.234253Z"
    }
   },
   "source": [
    "import os\n",
    "import cv2\n",
    "import matplotlib.pyplot as plt\n",
    "import numpy as np\n",
    "from PIL import Image, ImageFilter\n",
    "\n",
    "from preprocessing import *\n",
    "import time\n",
    "%load_ext autoreload\n",
    "%autoreload 2"
   ],
   "execution_count": 1,
   "outputs": []
  },
  {
   "metadata": {
    "ExecuteTime": {
     "end_time": "2024-10-13T08:23:40.665839Z",
     "start_time": "2024-10-13T08:23:40.589705Z"
    }
   },
   "cell_type": "code",
   "source": [
    "img = cv2.imread(\"DRIVE/training/images/22_training.tif\")\n",
    "image = cv2.cvtColor(img, cv2.COLOR_BGR2RGB)\n",
    "#label = cv2.imread(\"DRIVE/training/manual/21_manual1.gif\", cv2.IMREAD_GRAYSCALE)\n",
    "im = Image.open(\"DRIVE/training/manual/21_manual1.gif\")\n",
    "im.seek(im.tell())\n",
    "label = np.array(im).astype(np.int64)"
   ],
   "id": "a0994f110886d089",
   "execution_count": 9,
   "outputs": []
  },
  {
   "metadata": {
    "ExecuteTime": {
     "end_time": "2024-09-22T05:33:21.687963Z",
     "start_time": "2024-09-22T05:33:21.609444Z"
    }
   },
   "cell_type": "code",
   "source": [
    "mask = Image.open(\"DRIVE/training/mask/21_training_mask.gif\")\n",
    "mask.seek(mask.tell())\n",
    "mask = np.array(mask).astype(np.int64)"
   ],
   "id": "6e0005d0fd3b4cb2",
   "execution_count": 22,
   "outputs": []
  },
  {
   "metadata": {
    "ExecuteTime": {
     "end_time": "2024-09-22T05:29:24.487574Z",
     "start_time": "2024-09-22T05:29:24.395570Z"
    }
   },
   "cell_type": "code",
   "source": "label.shape",
   "id": "e34bdffa50c16c00",
   "execution_count": 3,
   "outputs": []
  },
  {
   "metadata": {
    "ExecuteTime": {
     "end_time": "2024-09-22T05:29:24.580569Z",
     "start_time": "2024-09-22T05:29:24.490570Z"
    }
   },
   "cell_type": "code",
   "source": "(label).max()",
   "id": "ea1b71210d3dbcd7",
   "execution_count": 4,
   "outputs": []
  },
  {
   "metadata": {
    "ExecuteTime": {
     "end_time": "2024-10-13T08:23:44.052591Z",
     "start_time": "2024-10-13T08:23:42.455662Z"
    }
   },
   "cell_type": "code",
   "source": [
    "fig, axs = plt.subplots(2,2, figsize=(20,20))\n",
    "plt.imshow(image, cmap='gray')\n",
    "axs[0][0].imshow(image, cmap='gray')\n",
    "axs[0][0].title.set_text('RGB')\n",
    "axs[0][0].axis('off')\n",
    "axs[0][1].imshow(image[...,0], cmap='gray')\n",
    "axs[0][1].title.set_text('R')\n",
    "axs[0][1].axis('off')\n",
    "axs[1][0].imshow(image[...,1], cmap='gray')\n",
    "axs[1][0].title.set_text('G')\n",
    "axs[1][0].axis('off')\n",
    "axs[1][1].imshow(image[...,2], cmap='gray')\n",
    "axs[1][1].title.set_text('B')\n",
    "axs[1][1].axis('off')"
   ],
   "id": "6b83d6ccd985d186",
   "execution_count": 10,
   "outputs": []
  },
  {
   "metadata": {
    "ExecuteTime": {
     "end_time": "2024-09-22T05:29:25.888832Z",
     "start_time": "2024-09-22T05:29:25.330576Z"
    }
   },
   "cell_type": "code",
   "source": "plt.imshow(img[..., 1], cmap='gray')",
   "id": "49499496dd30e332",
   "execution_count": 6,
   "outputs": []
  },
  {
   "metadata": {
    "ExecuteTime": {
     "end_time": "2024-09-22T05:29:26.386828Z",
     "start_time": "2024-09-22T05:29:25.891830Z"
    }
   },
   "cell_type": "code",
   "source": "plt.imshow(label, cmap='gray')",
   "id": "28f9bd77a10eb28b",
   "execution_count": 7,
   "outputs": []
  },
  {
   "metadata": {
    "ExecuteTime": {
     "end_time": "2024-09-22T05:29:27.836829Z",
     "start_time": "2024-09-22T05:29:26.391829Z"
    }
   },
   "cell_type": "code",
   "source": "plt.imshow(image[...,1]*.4 + label*.6, cmap='gray')",
   "id": "4881c2ba6b9b4d2a",
   "execution_count": 8,
   "outputs": []
  },
  {
   "metadata": {},
   "cell_type": "code",
   "source": "label.min()",
   "id": "94beefb0404def33",
   "execution_count": null,
   "outputs": []
  },
  {
   "metadata": {
    "ExecuteTime": {
     "end_time": "2024-09-22T05:29:39.982156Z",
     "start_time": "2024-09-22T05:29:39.878159Z"
    }
   },
   "cell_type": "code",
   "source": "image_gray = image",
   "id": "da74e5660019dcfb",
   "execution_count": 10,
   "outputs": []
  },
  {
   "metadata": {
    "ExecuteTime": {
     "end_time": "2024-09-22T05:44:07.985971Z",
     "start_time": "2024-09-22T05:44:07.907429Z"
    }
   },
   "cell_type": "code",
   "source": [
    "mask_proc = NormalizePreprocessor().process(mask)\n",
    "inv_image = 1.0-image/255.0\n",
    "inv_image*=mask_proc\n",
    "inv_image*=255.0\n",
    "inv_image = inv_image.astype(np.uint8)"
   ],
   "id": "cd837fb5e81f8739",
   "execution_count": 42,
   "outputs": []
  },
  {
   "metadata": {
    "ExecuteTime": {
     "end_time": "2024-09-22T05:44:35.075447Z",
     "start_time": "2024-09-22T05:44:34.832912Z"
    }
   },
   "cell_type": "code",
   "source": "plt.imshow(inv_image, cmap='gray')",
   "id": "408bf365de1300ff",
   "execution_count": 46,
   "outputs": []
  },
  {
   "metadata": {
    "ExecuteTime": {
     "end_time": "2024-10-13T08:40:48.383448Z",
     "start_time": "2024-10-13T08:40:48.325993Z"
    }
   },
   "cell_type": "code",
   "source": "arr = []",
   "id": "4e8e2ed51a723a5",
   "execution_count": 23,
   "outputs": []
  },
  {
   "metadata": {
    "ExecuteTime": {
     "end_time": "2024-10-13T08:40:48.880295Z",
     "start_time": "2024-10-13T08:40:48.653360Z"
    }
   },
   "cell_type": "code",
   "source": [
    "plt.imshow(image[..., 1], cmap='gray')\n",
    "plt.axis('off')\n",
    "arr.append(image[..., 1])"
   ],
   "id": "f22147a7b55c04d8",
   "execution_count": 24,
   "outputs": []
  },
  {
   "metadata": {
    "ExecuteTime": {
     "end_time": "2024-10-13T08:40:49.818564Z",
     "start_time": "2024-10-13T08:40:49.645661Z"
    }
   },
   "cell_type": "code",
   "source": [
    "input = CLAHE(tileGridSize=(8,8))\n",
    "im_processed = input.process(image[..., 1])\n",
    "plt.imshow(im_processed, cmap='gray')\n",
    "plt.axis('off')\n",
    "arr.append(im_processed)"
   ],
   "id": "6b062fbf41d33bdc",
   "execution_count": 25,
   "outputs": []
  },
  {
   "metadata": {
    "ExecuteTime": {
     "end_time": "2024-10-13T08:40:50.729635Z",
     "start_time": "2024-10-13T08:40:50.566552Z"
    }
   },
   "cell_type": "code",
   "source": [
    "input = CLAHE(tileGridSize=(8,8))\n",
    "x = GammaCorrectionPreprocessor(1.2)(input)\n",
    "im_processed = input.process(image[..., 1])\n",
    "plt.imshow(im_processed, cmap='gray')\n",
    "plt.axis('off')\n",
    "plt.show()\n",
    "arr.append(im_processed)"
   ],
   "id": "5118edc0d7198e45",
   "execution_count": 26,
   "outputs": []
  },
  {
   "metadata": {
    "ExecuteTime": {
     "end_time": "2024-10-13T08:42:22.196299Z",
     "start_time": "2024-10-13T08:42:21.349423Z"
    }
   },
   "cell_type": "code",
   "source": [
    "fig, axs = plt.subplots(1,3, figsize=(20,20))\n",
    "axs[0].imshow(arr[0], cmap='gray')\n",
    "axs[0].title.set_text('Original')\n",
    "axs[0].axis('off')\n",
    "axs[1].imshow(arr[1], cmap='gray')\n",
    "axs[1].title.set_text('After CLAHE')\n",
    "axs[1].axis('off')\n",
    "axs[2].imshow(arr[2], cmap='gray')\n",
    "axs[2].title.set_text('After CLAHE and gamma correction')\n",
    "axs[2].axis('off')"
   ],
   "id": "a39acfb204271b2b",
   "execution_count": 27,
   "outputs": []
  },
  {
   "metadata": {
    "ExecuteTime": {
     "end_time": "2024-09-22T05:43:05.660952Z",
     "start_time": "2024-09-22T05:43:05.566692Z"
    }
   },
   "cell_type": "code",
   "source": [
    "input = CLAHE(tileGridSize=(8,8))\n",
    "x = MedianBlurPreprocessor()(input)\n",
    "x = GammaCorrectionPreprocessor()(x)\n",
    "x = MultiScaleMorphologicalPreprocessor(\n",
    "    operation='open',  # Options: 'dilate', 'erode', 'open', 'close'\n",
    "    kernel_sizes=[3, 5, 7],\n",
    "    kernel_shape=cv2.MORPH_RECT,\n",
    "    iterations=1\n",
    ")(x)\n",
    "NormalizePreprocessor()(x)\n",
    "tm1 = time.time()\n",
    "# Construct the chain\n",
    "im_processed = input.process(inv_image)\n",
    "tm2 = time.time()\n",
    "mask_proc = NormalizePreprocessor().process(mask)\n"
   ],
   "id": "aa6432fc46d16f6d",
   "execution_count": 39,
   "outputs": []
  },
  {
   "metadata": {
    "ExecuteTime": {
     "end_time": "2024-09-18T12:19:03.303635Z",
     "start_time": "2024-09-18T12:19:03.058094Z"
    }
   },
   "cell_type": "code",
   "source": "plt.imshow(image, cmap='gray')",
   "id": "fdf0a01bd5da7f24",
   "execution_count": 30,
   "outputs": []
  },
  {
   "metadata": {
    "ExecuteTime": {
     "end_time": "2024-09-22T05:34:16.209217Z",
     "start_time": "2024-09-22T05:34:15.974196Z"
    }
   },
   "cell_type": "code",
   "source": "plt.imshow(mask_proc, cmap='gray')",
   "id": "13bdb8d5afcd697b",
   "execution_count": 24,
   "outputs": []
  },
  {
   "metadata": {
    "ExecuteTime": {
     "end_time": "2024-09-22T05:39:25.537028Z",
     "start_time": "2024-09-22T05:39:25.460363Z"
    }
   },
   "cell_type": "code",
   "source": [
    "inv_image = 1.0-image\n",
    "inv_image[mask_proc==0] = 0"
   ],
   "id": "82c5c3b9dfc886d7",
   "execution_count": 30,
   "outputs": []
  },
  {
   "metadata": {
    "ExecuteTime": {
     "end_time": "2024-09-22T05:39:25.993917Z",
     "start_time": "2024-09-22T05:39:25.724980Z"
    }
   },
   "cell_type": "code",
   "source": "plt.imshow(inv_image, cmap='gray')",
   "id": "b879c1a2d71e144f",
   "execution_count": 31,
   "outputs": []
  },
  {
   "metadata": {
    "ExecuteTime": {
     "end_time": "2024-09-22T05:32:09.816119Z",
     "start_time": "2024-09-22T05:32:09.567471Z"
    }
   },
   "cell_type": "code",
   "source": "",
   "id": "e39586098033fb6b",
   "execution_count": 19,
   "outputs": []
  },
  {
   "metadata": {
    "ExecuteTime": {
     "end_time": "2024-09-22T05:32:17.371528Z",
     "start_time": "2024-09-22T05:32:17.293385Z"
    }
   },
   "cell_type": "code",
   "source": "",
   "id": "2bc9141d710d64b3",
   "execution_count": 20,
   "outputs": []
  },
  {
   "metadata": {
    "ExecuteTime": {
     "end_time": "2024-09-18T12:25:57.030514Z",
     "start_time": "2024-09-18T12:25:56.959581Z"
    }
   },
   "cell_type": "code",
   "source": [
    "sharpen_kernel = np.array([[-1, -1, -1],\n",
    "                           [-1,  9, -1],\n",
    "                           [-1, -1, -1]])\n",
    "\n",
    "# Применяем фильтр повышения резкости\n",
    "sharpened_image = cv2.filter2D(im_processed, -1, sharpen_kernel)\n"
   ],
   "id": "f94c3ab83225cea8",
   "execution_count": 41,
   "outputs": []
  },
  {
   "metadata": {
    "ExecuteTime": {
     "end_time": "2024-09-18T12:26:04.804553Z",
     "start_time": "2024-09-18T12:26:04.566665Z"
    }
   },
   "cell_type": "code",
   "source": "plt.imshow(sharpened_image, cmap='gray')",
   "id": "1f3108c4bfb1328",
   "execution_count": 42,
   "outputs": []
  },
  {
   "metadata": {},
   "cell_type": "code",
   "execution_count": null,
   "source": "",
   "id": "8fea0a4b51591b8e",
   "outputs": []
  }
 ],
 "metadata": {
  "kernelspec": {
   "display_name": "Python 3",
   "language": "python",
   "name": "python3"
  },
  "language_info": {
   "codemirror_mode": {
    "name": "ipython",
    "version": 2
   },
   "file_extension": ".py",
   "mimetype": "text/x-python",
   "name": "python",
   "nbconvert_exporter": "python",
   "pygments_lexer": "ipython2",
   "version": "2.7.6"
  }
 },
 "nbformat": 4,
 "nbformat_minor": 5
}
