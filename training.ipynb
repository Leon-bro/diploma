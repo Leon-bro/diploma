{
 "cells": [
  {
   "cell_type": "code",
   "id": "initial_id",
   "metadata": {
    "collapsed": true,
    "ExecuteTime": {
     "end_time": "2024-09-24T06:01:10.278012Z",
     "start_time": "2024-09-24T06:01:04.569798Z"
    }
   },
   "source": [
    "import logging\n",
    "import pandas as pd\n",
    "import tensorflow as tf\n",
    "import numpy as np\n",
    "import matplotlib.pyplot as plt\n",
    "from sklearn.model_selection import train_test_split\n",
    "from custom_losses import *\n",
    "from custom_metrics import *\n",
    "from preprocessing import *\n",
    "from models import create_w_net, create_unet\n",
    "import os\n",
    "import cv2\n",
    "from PIL import Image\n"
   ],
   "execution_count": 1,
   "outputs": []
  },
  {
   "metadata": {
    "ExecuteTime": {
     "end_time": "2024-09-24T06:01:10.293795Z",
     "start_time": "2024-09-24T06:01:10.278012Z"
    }
   },
   "cell_type": "code",
   "source": "logging.getLogger().setLevel(logging.WARNING)",
   "id": "9b833c581d6bcf82",
   "execution_count": 2,
   "outputs": []
  },
  {
   "metadata": {},
   "cell_type": "markdown",
   "source": "",
   "id": "1e71ed99f5b1b858"
  },
  {
   "metadata": {
    "ExecuteTime": {
     "end_time": "2024-09-24T06:01:10.309459Z",
     "start_time": "2024-09-24T06:01:10.293795Z"
    }
   },
   "cell_type": "code",
   "source": [
    "# Define paths to your dataset\n",
    "image_folder = 'DRIVE/training/images'\n",
    "label_folder = 'DRIVE/training/manual'\n",
    "mask_folder = 'DRIVE/training/mask'\n",
    "test_image_folder = 'DRIVE/test/images'\n",
    "test_label_folder = 'DRIVE/test/manual'\n",
    "test_mask_folder = 'DRIVE/training/mask'\n",
    "# Get list of all files in the image and label directories\n",
    "image_files = sorted(os.listdir(image_folder))\n",
    "label_files = sorted(os.listdir(label_folder))\n",
    "mask_files = sorted(os.listdir(mask_folder))\n",
    "test_image_files = sorted(os.listdir(test_image_folder))\n",
    "test_label_files = sorted(os.listdir(test_label_folder))\n",
    "test_mask_files = sorted(os.listdir(test_mask_folder))"
   ],
   "id": "16b9fee2f4e7037f",
   "execution_count": 3,
   "outputs": []
  },
  {
   "metadata": {
    "ExecuteTime": {
     "end_time": "2024-09-24T06:01:57.786503Z",
     "start_time": "2024-09-24T06:01:56.511715Z"
    }
   },
   "cell_type": "code",
   "source": "create_w_net((512,512,3), 2, 8).summary()",
   "id": "7f9837ab1de32204",
   "execution_count": 6,
   "outputs": []
  },
  {
   "metadata": {
    "ExecuteTime": {
     "end_time": "2024-09-24T05:51:57.969816Z",
     "start_time": "2024-09-24T05:51:57.969816Z"
    }
   },
   "cell_type": "code",
   "source": [
    "# Function to preprocess images and labels\n",
    "def preprocess(image_path, label_path, mask_path):\n",
    "    # Convert the TensorFlow Tensor object to a string\n",
    "    image_path = image_path.decode('utf-8')\n",
    "    label_path = label_path.decode('utf-8')\n",
    "    mask_path = mask_path.decode('utf-8')\n",
    "    # Load image and label\n",
    "    image = cv2.imread(image_path)\n",
    "    image = cv2.cvtColor(image, cv2.COLOR_BGR2GRAY)\n",
    "    try:\n",
    "        label = cv2.imread(label_path, cv2.IMREAD_GRAYSCALE)\n",
    "        mask = cv2.imread(mask_path, cv2.IMREAD_GRAYSCALE)\n",
    "        if label is None or mask is None:\n",
    "            raise FileNotFoundError\n",
    "    except FileNotFoundError:\n",
    "        lb = Image.open(label_path)\n",
    "        lb.seek(lb.tell())\n",
    "        label = np.array(lb)\n",
    "        mask = Image.open(mask_path)\n",
    "        mask.seek(mask.tell())\n",
    "        mask = np.array(mask).astype(np.uint8)\n",
    "    # Resize images and labels\n",
    "    input = ResizePreprocessor(512, 512)\n",
    "    x = CLAHE()(input)\n",
    "    x = MedianBlurPreprocessor()(x)\n",
    "    x = GammaCorrectionPreprocessor()(x)\n",
    "    x = MultiScaleMorphologicalPreprocessor(\n",
    "        operation='open',  # Options: 'dilate', 'erode', 'open', 'close'\n",
    "        kernel_sizes=[3, 5, 7],\n",
    "        kernel_shape=cv2.MORPH_RECT,\n",
    "        iterations=1\n",
    "    )(x)\n",
    "    NormalizePreprocessor()(x)\n",
    "    for_labels = ResizePreprocessor(512, 512)\n",
    "    NormalizePreprocessor()(for_labels)\n",
    "    image = input.process(image)[:, :, np.newaxis].astype('float32')\n",
    "    label = for_labels.process(label)[:, :, np.newaxis].astype('float32')\n",
    "    mask = for_labels.process(mask)[:, :, np.newaxis].astype('float32')\n",
    "    image *= mask\n",
    "    label *= mask\n",
    "    return image, label\n",
    "\n"
   ],
   "id": "a404fe4f32da8c39",
   "execution_count": null,
   "outputs": []
  },
  {
   "metadata": {
    "ExecuteTime": {
     "end_time": "2024-09-20T08:31:11.275703Z",
     "start_time": "2024-09-20T08:31:11.260143Z"
    }
   },
   "cell_type": "code",
   "source": [
    "# Function to load the dataset into tf.data.Dataset\n",
    "def load_dataset(image_folder,image_files, label_folder, label_files, mask_folder, mask_files):\n",
    "    # Create file paths\n",
    "    image_paths = [os.path.join(image_folder, f) for f in image_files]\n",
    "    label_paths = [os.path.join(label_folder, f) for f in label_files]\n",
    "    mask_paths = [os.path.join(mask_folder, f) for f in mask_files]\n",
    "    # Create a TensorFlow dataset from the file paths\n",
    "    dataset = tf.data.Dataset.from_tensor_slices((image_paths, label_paths, mask_paths))\n",
    "    \n",
    "    # Map the preprocessing function to each element in the dataset\n",
    "    dataset = dataset.map(lambda img_path, lbl_path, m_path: tf.numpy_function(\n",
    "                          func=preprocess, inp=[img_path, lbl_path, m_path], \n",
    "                          Tout=[tf.float32, tf.float32]))\n",
    "    \n",
    "    # Shuffle and batch the dataset\n",
    "    dataset = dataset.shuffle(buffer_size=len(image_paths))\n",
    "    dataset = dataset.batch(4)  # Set batch size to 32, modify as needed\n",
    "    \n",
    "    return dataset\n",
    "\n"
   ],
   "id": "30c38d083ec2e55",
   "execution_count": 69,
   "outputs": []
  },
  {
   "metadata": {
    "ExecuteTime": {
     "end_time": "2024-09-20T08:31:12.448797Z",
     "start_time": "2024-09-20T08:31:12.438399Z"
    }
   },
   "cell_type": "code",
   "source": "",
   "id": "ab9d043482aa5008",
   "execution_count": 69,
   "outputs": []
  },
  {
   "metadata": {
    "ExecuteTime": {
     "end_time": "2024-09-20T08:31:13.358679Z",
     "start_time": "2024-09-20T08:31:13.320282Z"
    }
   },
   "cell_type": "code",
   "source": [
    "# Load the dataset\n",
    "dataset = load_dataset(image_folder, image_files, label_folder, label_files, mask_folder, mask_files)\n",
    "test_dataset= load_dataset(test_image_folder, test_image_files, test_label_folder, test_label_files, test_mask_folder, test_mask_files)"
   ],
   "id": "ffaae233c084e2f",
   "execution_count": 70,
   "outputs": []
  },
  {
   "metadata": {
    "ExecuteTime": {
     "end_time": "2024-09-20T07:55:39.523409Z",
     "start_time": "2024-09-20T07:55:38.169764Z"
    }
   },
   "cell_type": "code",
   "source": [
    "for image, label in test_dataset:\n",
    "    \n",
    "    plt.imshow(image[0]*.6 + label[0]*.4, cmap='gray')"
   ],
   "id": "5ab8b2b523570009",
   "execution_count": 62,
   "outputs": []
  },
  {
   "metadata": {
    "ExecuteTime": {
     "end_time": "2024-09-20T08:31:17.203780Z",
     "start_time": "2024-09-20T08:31:17.178668Z"
    }
   },
   "cell_type": "code",
   "source": [
    "class LogHistoryToExcel(tf.keras.callbacks.Callback):\n",
    "    def __init__(self, file_name='training_log.xlsx'):\n",
    "        super(LogHistoryToExcel, self).__init__()\n",
    "        self.file_name = file_name\n",
    "        self.epoch_data = []\n",
    "\n",
    "    def on_epoch_end(self, epoch, logs=None):\n",
    "        logs = logs or {}\n",
    "        logs['epoch'] = epoch + 1\n",
    "        self.epoch_data.append(logs)\n",
    "\n",
    "        # Convert epoch data to DataFrame and write to Excel\n",
    "        df = pd.DataFrame(self.epoch_data)\n",
    "        df.to_excel(self.file_name, index=False)"
   ],
   "id": "98b07f8598006b5c",
   "execution_count": 71,
   "outputs": []
  },
  {
   "metadata": {
    "ExecuteTime": {
     "end_time": "2024-09-20T08:31:20.265508Z",
     "start_time": "2024-09-20T08:31:20.249545Z"
    }
   },
   "cell_type": "code",
   "source": [
    "# Define the total number of epochs\n",
    "total_epochs = 1000\n",
    "\n",
    "# Set the initial learning rate, decay steps, and minimum learning rate\n",
    "initial_learning_rate = 1E-2\n",
    "decay_steps = 50\n",
    "alpha = 1E-8\n",
    "class LearningRateLogger(tf.keras.callbacks.Callback):\n",
    "    def on_epoch_end(self, epoch, logs=None):\n",
    "        # Get the learning rate from the optimizer\n",
    "        lr = self.model.optimizer.learning_rate\n",
    "        if isinstance(lr, tf.keras.optimizers.schedules.LearningRateSchedule):\n",
    "            current_lr = lr(tf.cast(self.model.optimizer.iterations, tf.float32))\n",
    "        else:\n",
    "            current_lr = lr\n",
    "        print(f\"Epoch {epoch + 1}: Learning rate is {current_lr.numpy()}\")\n",
    "\n",
    "# Create a cosine decay schedule with restarts and a minimum learning rate\n",
    "lr_schedule = tf.keras.optimizers.schedules.CosineDecayRestarts(\n",
    "    initial_learning_rate=initial_learning_rate,\n",
    "    first_decay_steps=decay_steps,\n",
    "    alpha=alpha\n",
    ")"
   ],
   "id": "b5d6af6f9d126ac1",
   "execution_count": 72,
   "outputs": []
  },
  {
   "metadata": {
    "ExecuteTime": {
     "end_time": "2024-09-20T08:31:23.297687Z",
     "start_time": "2024-09-20T08:31:21.963463Z"
    }
   },
   "cell_type": "code",
   "source": "",
   "id": "68d7b6b93f6fa28e",
   "execution_count": 73,
   "outputs": []
  },
  {
   "metadata": {
    "ExecuteTime": {
     "end_time": "2024-09-20T08:31:26.282690Z",
     "start_time": "2024-09-20T08:31:26.258331Z"
    }
   },
   "cell_type": "code",
   "source": [
    "\n",
    "wnet.compile(optimizer=tf.keras.optimizers.Adam(learning_rate=1E-3), loss={\"out1\":DiceLoss(), \"out2\":DiceLoss()}, metrics=[iou_metric])\n"
   ],
   "id": "c6192dbd91d1d90f",
   "execution_count": 74,
   "outputs": []
  },
  {
   "metadata": {
    "ExecuteTime": {
     "end_time": "2024-09-20T08:50:18.193925Z",
     "start_time": "2024-09-20T08:32:04.708468Z"
    }
   },
   "cell_type": "code",
   "source": [
    "early_stopping = tf.keras.callbacks.EarlyStopping(monitor='loss', patience=50, verbose=1, mode='min')\n",
    "wnet.fit(x=dataset, epochs=2000, verbose=2, callbacks=[early_stopping, LearningRateLogger(), LogHistoryToExcel(\n",
    "    \"models_data/model_with_gray_image_conv_plus_preproc.xlsx\")], validation_data=test_dataset)"
   ],
   "id": "9366cbed35a673e0",
   "execution_count": 75,
   "outputs": []
  },
  {
   "metadata": {
    "ExecuteTime": {
     "end_time": "2024-09-20T07:52:19.602860Z",
     "start_time": "2024-09-20T07:52:15.913329Z"
    }
   },
   "cell_type": "code",
   "source": [
    "for batch in dataset:\n",
    "    image, label = batch\n",
    "    pl = wnet.predict(image)[1]\n",
    "    plt.imshow(image[0])\n",
    "    plt.show()\n",
    "    fig, axs = plt.subplots(1,2)\n",
    "    axs[0].imshow(label[0], cmap=\"gray\")\n",
    "    axs[1].imshow(pl[0], cmap=\"gray\")\n",
    "    plt.show()\n",
    "    "
   ],
   "id": "f55fed6604f0e1d2",
   "execution_count": 56,
   "outputs": []
  },
  {
   "metadata": {
    "ExecuteTime": {
     "end_time": "2024-09-20T07:47:58.269352Z",
     "start_time": "2024-09-20T07:47:55.595939Z"
    }
   },
   "cell_type": "code",
   "source": [
    "for batch in test_dataset:\n",
    "    image, label = batch\n",
    "    \n",
    "    plt.imshow(image[0])\n",
    "    plt.show()\n",
    "    plt.imshow(label[0], cmap=\"gray\")\n",
    "    plt.show()"
   ],
   "id": "78cc22c6b599c48c",
   "execution_count": 53,
   "outputs": []
  },
  {
   "metadata": {
    "ExecuteTime": {
     "end_time": "2024-09-16T14:35:15.537433Z",
     "start_time": "2024-09-16T14:35:15.338246Z"
    }
   },
   "cell_type": "code",
   "source": "",
   "id": "1f3664507a87b45a",
   "execution_count": 27,
   "outputs": []
  },
  {
   "metadata": {},
   "cell_type": "code",
   "execution_count": null,
   "source": "",
   "id": "b3f9f064228a2230",
   "outputs": []
  }
 ],
 "metadata": {
  "kernelspec": {
   "display_name": "Python 3",
   "language": "python",
   "name": "python3"
  },
  "language_info": {
   "codemirror_mode": {
    "name": "ipython",
    "version": 2
   },
   "file_extension": ".py",
   "mimetype": "text/x-python",
   "name": "python",
   "nbconvert_exporter": "python",
   "pygments_lexer": "ipython2",
   "version": "2.7.6"
  }
 },
 "nbformat": 4,
 "nbformat_minor": 5
}
