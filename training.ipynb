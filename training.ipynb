{
 "cells": [
  {
   "cell_type": "code",
   "id": "initial_id",
   "metadata": {
    "collapsed": true,
    "ExecuteTime": {
     "end_time": "2024-09-10T06:01:34.561758Z",
     "start_time": "2024-09-10T06:01:28.856750Z"
    }
   },
   "source": [
    "import tensorflow as tf\n",
    "import numpy as np\n",
    "import matplotlib.pyplot as plt\n",
    "from sklearn.model_selection import train_test_split\n",
    "from custom_losses import *\n",
    "from custom_metrics import *\n",
    "\n",
    "from models import build_unet, build_w_net\n",
    "import os\n",
    "import cv2"
   ],
   "outputs": [],
   "execution_count": 2
  },
  {
   "metadata": {
    "ExecuteTime": {
     "end_time": "2024-09-10T06:01:34.577749Z",
     "start_time": "2024-09-10T06:01:34.564706Z"
    }
   },
   "cell_type": "code",
   "source": [
    "# Define paths to your dataset\n",
    "image_folder = 'DRIVE/training/images'\n",
    "label_folder = 'DRIVE/training/1st_manual'\n",
    "\n",
    "# Get list of all files in the image and label directories\n",
    "image_files = sorted(os.listdir(image_folder))\n",
    "label_files = sorted(os.listdir(label_folder))\n",
    "\n"
   ],
   "id": "16b9fee2f4e7037f",
   "outputs": [],
   "execution_count": 3
  },
  {
   "metadata": {
    "ExecuteTime": {
     "end_time": "2024-09-10T06:01:34.593029Z",
     "start_time": "2024-09-10T06:01:34.579749Z"
    }
   },
   "cell_type": "code",
   "source": [
    "# Function to preprocess images and labels\n",
    "def preprocess(image_path, label_path):\n",
    "    # Convert the TensorFlow Tensor object to a string\n",
    "    image_path = image_path.decode('utf-8')\n",
    "    label_path = label_path.decode('utf-8')\n",
    "    # Load image and label\n",
    "    image = cv2.imread(image_path)\n",
    "    label = cv2.imread(label_path, cv2.IMREAD_GRAYSCALE)\n",
    "    # Resize images and labels\n",
    "    image_resized = cv2.resize(image, (512, 512))\n",
    "    label_resized = cv2.resize(label, (512, 512))\n",
    "    \n",
    "    # Normalize images and labels\n",
    "    image_normalized = image_resized.astype(np.float32) / 255.0\n",
    "    label_normalized = label_resized.astype(np.float32) / 255.0\n",
    "    label_normalized = label_normalized[:, :, np.newaxis]\n",
    "    return image_normalized, label_normalized\n",
    "\n"
   ],
   "id": "a404fe4f32da8c39",
   "outputs": [],
   "execution_count": 4
  },
  {
   "metadata": {
    "ExecuteTime": {
     "end_time": "2024-09-10T06:01:34.608083Z",
     "start_time": "2024-09-10T06:01:34.595029Z"
    }
   },
   "cell_type": "code",
   "source": [
    "# Function to load the dataset into tf.data.Dataset\n",
    "def load_dataset(image_folder, label_folder):\n",
    "    # Create file paths\n",
    "    image_paths = [os.path.join(image_folder, f) for f in image_files]\n",
    "    label_paths = [os.path.join(label_folder, f) for f in label_files]\n",
    "    # Create a TensorFlow dataset from the file paths\n",
    "    dataset = tf.data.Dataset.from_tensor_slices((image_paths, label_paths))\n",
    "    \n",
    "    # Map the preprocessing function to each element in the dataset\n",
    "    dataset = dataset.map(lambda img_path, lbl_path: tf.numpy_function(\n",
    "                          func=preprocess, inp=[img_path, lbl_path], \n",
    "                          Tout=[tf.float32, tf.float32]))\n",
    "    \n",
    "    # Shuffle and batch the dataset\n",
    "    dataset = dataset.shuffle(buffer_size=len(image_paths))\n",
    "    dataset = dataset.batch(4)  # Set batch size to 32, modify as needed\n",
    "    \n",
    "    return dataset\n",
    "\n"
   ],
   "id": "30c38d083ec2e55",
   "outputs": [],
   "execution_count": 5
  },
  {
   "metadata": {
    "ExecuteTime": {
     "end_time": "2024-09-10T06:01:34.623558Z",
     "start_time": "2024-09-10T06:01:34.612097Z"
    }
   },
   "cell_type": "code",
   "source": "",
   "id": "ab9d043482aa5008",
   "outputs": [],
   "execution_count": 5
  },
  {
   "metadata": {
    "ExecuteTime": {
     "end_time": "2024-09-10T06:01:36.705108Z",
     "start_time": "2024-09-10T06:01:34.625565Z"
    }
   },
   "cell_type": "code",
   "source": [
    "# Load the dataset\n",
    "dataset = load_dataset(image_folder, label_folder)"
   ],
   "id": "ffaae233c084e2f",
   "outputs": [],
   "execution_count": 6
  },
  {
   "metadata": {
    "ExecuteTime": {
     "end_time": "2024-09-10T06:01:37.422635Z",
     "start_time": "2024-09-10T06:01:36.706104Z"
    }
   },
   "cell_type": "code",
   "source": [
    "for batch in dataset:\n",
    "    image, label = batch\n",
    "    for i in label:\n",
    "        print(i.shape)"
   ],
   "id": "5ab8b2b523570009",
   "outputs": [
    {
     "name": "stdout",
     "output_type": "stream",
     "text": [
      "(512, 512, 1)\n",
      "(512, 512, 1)\n",
      "(512, 512, 1)\n",
      "(512, 512, 1)\n",
      "(512, 512, 1)\n",
      "(512, 512, 1)\n",
      "(512, 512, 1)\n",
      "(512, 512, 1)\n",
      "(512, 512, 1)\n",
      "(512, 512, 1)\n",
      "(512, 512, 1)\n",
      "(512, 512, 1)\n",
      "(512, 512, 1)\n",
      "(512, 512, 1)\n",
      "(512, 512, 1)\n",
      "(512, 512, 1)\n",
      "(512, 512, 1)\n",
      "(512, 512, 1)\n",
      "(512, 512, 1)\n",
      "(512, 512, 1)\n"
     ]
    }
   ],
   "execution_count": 7
  },
  {
   "metadata": {
    "ExecuteTime": {
     "end_time": "2024-09-10T06:08:06.252777Z",
     "start_time": "2024-09-10T06:08:06.233028Z"
    }
   },
   "cell_type": "code",
   "source": [
    "num_epoch = 4000\n",
    "step = 50\n",
    "# Define the cosine annealing learning rate scheduler\n",
    "def cosine_annealing_schedule(epoch, lr):\n",
    "    initial_lr = lr  # Use the current learning rate as the initial rate\n",
    "    if lr%step == 0:\n",
    "        lr = 0.5 * initial_lr * (1 + np.cos(np.pi * (epoch) / num_epoch))\n",
    "    return lr\n",
    "\n",
    "# Create the LearningRateScheduler callback\n",
    "lr_scheduler = tf.keras.callbacks.LearningRateScheduler(cosine_annealing_schedule)"
   ],
   "id": "b5d6af6f9d126ac1",
   "outputs": [],
   "execution_count": 16
  },
  {
   "metadata": {
    "ExecuteTime": {
     "end_time": "2024-09-10T06:08:07.587509Z",
     "start_time": "2024-09-10T06:08:06.745738Z"
    }
   },
   "cell_type": "code",
   "source": [
    "wnet = build_w_net((512, 512, 3))  # Input size is 128x128 grayscale image\n",
    "wnet.summary()"
   ],
   "id": "68d7b6b93f6fa28e",
   "outputs": [
    {
     "name": "stdout",
     "output_type": "stream",
     "text": [
      "Model: \"model_2\"\n",
      "__________________________________________________________________________________________________\n",
      " Layer (type)                   Output Shape         Param #     Connected to                     \n",
      "==================================================================================================\n",
      " input_3 (InputLayer)           [(None, 512, 512, 3  0           []                               \n",
      "                                )]                                                                \n",
      "                                                                                                  \n",
      " conv2d_40 (Conv2D)             (None, 512, 512, 8)  224         ['input_3[0][0]']                \n",
      "                                                                                                  \n",
      " conv2d_41 (Conv2D)             (None, 512, 512, 8)  584         ['conv2d_40[0][0]']              \n",
      "                                                                                                  \n",
      " max_pooling2d_8 (MaxPooling2D)  (None, 256, 256, 8)  0          ['conv2d_41[0][0]']              \n",
      "                                                                                                  \n",
      " conv2d_42 (Conv2D)             (None, 256, 256, 16  1168        ['max_pooling2d_8[0][0]']        \n",
      "                                )                                                                 \n",
      "                                                                                                  \n",
      " conv2d_43 (Conv2D)             (None, 256, 256, 16  2320        ['conv2d_42[0][0]']              \n",
      "                                )                                                                 \n",
      "                                                                                                  \n",
      " max_pooling2d_9 (MaxPooling2D)  (None, 128, 128, 16  0          ['conv2d_43[0][0]']              \n",
      "                                )                                                                 \n",
      "                                                                                                  \n",
      " conv2d_44 (Conv2D)             (None, 128, 128, 32  4640        ['max_pooling2d_9[0][0]']        \n",
      "                                )                                                                 \n",
      "                                                                                                  \n",
      " conv2d_45 (Conv2D)             (None, 128, 128, 32  9248        ['conv2d_44[0][0]']              \n",
      "                                )                                                                 \n",
      "                                                                                                  \n",
      " conv2d_transpose_8 (Conv2DTran  (None, 256, 256, 16  2064       ['conv2d_45[0][0]']              \n",
      " spose)                         )                                                                 \n",
      "                                                                                                  \n",
      " concatenate_10 (Concatenate)   (None, 256, 256, 32  0           ['conv2d_transpose_8[0][0]',     \n",
      "                                )                                 'conv2d_43[0][0]']              \n",
      "                                                                                                  \n",
      " conv2d_46 (Conv2D)             (None, 256, 256, 16  4624        ['concatenate_10[0][0]']         \n",
      "                                )                                                                 \n",
      "                                                                                                  \n",
      " conv2d_47 (Conv2D)             (None, 256, 256, 16  2320        ['conv2d_46[0][0]']              \n",
      "                                )                                                                 \n",
      "                                                                                                  \n",
      " conv2d_transpose_9 (Conv2DTran  (None, 512, 512, 8)  520        ['conv2d_47[0][0]']              \n",
      " spose)                                                                                           \n",
      "                                                                                                  \n",
      " concatenate_11 (Concatenate)   (None, 512, 512, 16  0           ['conv2d_transpose_9[0][0]',     \n",
      "                                )                                 'conv2d_41[0][0]']              \n",
      "                                                                                                  \n",
      " conv2d_48 (Conv2D)             (None, 512, 512, 8)  1160        ['concatenate_11[0][0]']         \n",
      "                                                                                                  \n",
      " conv2d_49 (Conv2D)             (None, 512, 512, 8)  584         ['conv2d_48[0][0]']              \n",
      "                                                                                                  \n",
      " out1 (Conv2D)                  (None, 512, 512, 1)  9           ['conv2d_49[0][0]']              \n",
      "                                                                                                  \n",
      " concatenate_12 (Concatenate)   (None, 512, 512, 4)  0           ['input_3[0][0]',                \n",
      "                                                                  'out1[0][0]']                   \n",
      "                                                                                                  \n",
      " conv2d_50 (Conv2D)             (None, 512, 512, 8)  296         ['concatenate_12[0][0]']         \n",
      "                                                                                                  \n",
      " conv2d_51 (Conv2D)             (None, 512, 512, 8)  584         ['conv2d_50[0][0]']              \n",
      "                                                                                                  \n",
      " max_pooling2d_10 (MaxPooling2D  (None, 256, 256, 8)  0          ['conv2d_51[0][0]']              \n",
      " )                                                                                                \n",
      "                                                                                                  \n",
      " conv2d_52 (Conv2D)             (None, 256, 256, 16  1168        ['max_pooling2d_10[0][0]']       \n",
      "                                )                                                                 \n",
      "                                                                                                  \n",
      " conv2d_53 (Conv2D)             (None, 256, 256, 16  2320        ['conv2d_52[0][0]']              \n",
      "                                )                                                                 \n",
      "                                                                                                  \n",
      " max_pooling2d_11 (MaxPooling2D  (None, 128, 128, 16  0          ['conv2d_53[0][0]']              \n",
      " )                              )                                                                 \n",
      "                                                                                                  \n",
      " conv2d_54 (Conv2D)             (None, 128, 128, 32  4640        ['max_pooling2d_11[0][0]']       \n",
      "                                )                                                                 \n",
      "                                                                                                  \n",
      " conv2d_55 (Conv2D)             (None, 128, 128, 32  9248        ['conv2d_54[0][0]']              \n",
      "                                )                                                                 \n",
      "                                                                                                  \n",
      " conv2d_transpose_10 (Conv2DTra  (None, 256, 256, 16  2064       ['conv2d_55[0][0]']              \n",
      " nspose)                        )                                                                 \n",
      "                                                                                                  \n",
      " concatenate_13 (Concatenate)   (None, 256, 256, 32  0           ['conv2d_transpose_10[0][0]',    \n",
      "                                )                                 'conv2d_53[0][0]']              \n",
      "                                                                                                  \n",
      " conv2d_56 (Conv2D)             (None, 256, 256, 16  4624        ['concatenate_13[0][0]']         \n",
      "                                )                                                                 \n",
      "                                                                                                  \n",
      " conv2d_57 (Conv2D)             (None, 256, 256, 16  2320        ['conv2d_56[0][0]']              \n",
      "                                )                                                                 \n",
      "                                                                                                  \n",
      " conv2d_transpose_11 (Conv2DTra  (None, 512, 512, 8)  520        ['conv2d_57[0][0]']              \n",
      " nspose)                                                                                          \n",
      "                                                                                                  \n",
      " concatenate_14 (Concatenate)   (None, 512, 512, 16  0           ['conv2d_transpose_11[0][0]',    \n",
      "                                )                                 'conv2d_51[0][0]']              \n",
      "                                                                                                  \n",
      " conv2d_58 (Conv2D)             (None, 512, 512, 8)  1160        ['concatenate_14[0][0]']         \n",
      "                                                                                                  \n",
      " conv2d_59 (Conv2D)             (None, 512, 512, 8)  584         ['conv2d_58[0][0]']              \n",
      "                                                                                                  \n",
      " out2 (Conv2D)                  (None, 512, 512, 1)  9           ['conv2d_59[0][0]']              \n",
      "                                                                                                  \n",
      "==================================================================================================\n",
      "Total params: 59,002\n",
      "Trainable params: 59,002\n",
      "Non-trainable params: 0\n",
      "__________________________________________________________________________________________________\n"
     ]
    }
   ],
   "execution_count": 17
  },
  {
   "metadata": {
    "ExecuteTime": {
     "end_time": "2024-09-10T06:06:57.501207Z",
     "start_time": "2024-09-10T06:06:57.478799Z"
    }
   },
   "cell_type": "code",
   "source": [
    "\n",
    "wnet.compile(optimizer=tf.keras.optimizers.SGD(learning_rate=1E-2), loss={\"out1\":DiceLoss(), \"out2\":DiceLoss()}, metrics=[iou_metric])\n"
   ],
   "id": "c6192dbd91d1d90f",
   "outputs": [],
   "execution_count": 14
  },
  {
   "metadata": {
    "ExecuteTime": {
     "end_time": "2024-09-10T06:07:47.936636Z",
     "start_time": "2024-09-10T06:06:57.867222Z"
    }
   },
   "cell_type": "code",
   "source": "wnet.fit(x=dataset, epochs=100, verbose=2, callbacks=[lr_scheduler])",
   "id": "9366cbed35a673e0",
   "outputs": [
    {
     "name": "stdout",
     "output_type": "stream",
     "text": [
      "Epoch 1/100\n",
      "5/5 - 4s - loss: 1.4704 - out1_loss: 0.7357 - out2_loss: 0.7347 - out1_iou_metric: 0.0805 - out2_iou_metric: 0.0791 - lr: 0.0100 - 4s/epoch - 867ms/step\n",
      "Epoch 2/100\n",
      "5/5 - 2s - loss: 1.4698 - out1_loss: 0.7354 - out2_loss: 0.7344 - out1_iou_metric: 0.0804 - out2_iou_metric: 0.0791 - lr: 0.0100 - 2s/epoch - 331ms/step\n",
      "Epoch 3/100\n",
      "5/5 - 2s - loss: 1.4687 - out1_loss: 0.7349 - out2_loss: 0.7338 - out1_iou_metric: 0.0803 - out2_iou_metric: 0.0791 - lr: 0.0100 - 2s/epoch - 337ms/step\n",
      "Epoch 4/100\n",
      "5/5 - 2s - loss: 1.4685 - out1_loss: 0.7348 - out2_loss: 0.7337 - out1_iou_metric: 0.0802 - out2_iou_metric: 0.0790 - lr: 0.0099 - 2s/epoch - 337ms/step\n",
      "Epoch 5/100\n",
      "5/5 - 2s - loss: 1.4666 - out1_loss: 0.7339 - out2_loss: 0.7327 - out1_iou_metric: 0.0801 - out2_iou_metric: 0.0791 - lr: 0.0097 - 2s/epoch - 335ms/step\n",
      "Epoch 6/100\n",
      "5/5 - 2s - loss: 1.4660 - out1_loss: 0.7336 - out2_loss: 0.7324 - out1_iou_metric: 0.0800 - out2_iou_metric: 0.0790 - lr: 0.0095 - 2s/epoch - 342ms/step\n",
      "Epoch 7/100\n",
      "5/5 - 2s - loss: 1.4652 - out1_loss: 0.7332 - out2_loss: 0.7320 - out1_iou_metric: 0.0799 - out2_iou_metric: 0.0790 - lr: 0.0091 - 2s/epoch - 339ms/step\n",
      "Epoch 8/100\n",
      "5/5 - 2s - loss: 1.4647 - out1_loss: 0.7330 - out2_loss: 0.7317 - out1_iou_metric: 0.0799 - out2_iou_metric: 0.0790 - lr: 0.0087 - 2s/epoch - 339ms/step\n",
      "Epoch 9/100\n",
      "5/5 - 2s - loss: 1.4635 - out1_loss: 0.7324 - out2_loss: 0.7311 - out1_iou_metric: 0.0798 - out2_iou_metric: 0.0790 - lr: 0.0082 - 2s/epoch - 339ms/step\n",
      "Epoch 10/100\n",
      "5/5 - 2s - loss: 1.4628 - out1_loss: 0.7321 - out2_loss: 0.7307 - out1_iou_metric: 0.0797 - out2_iou_metric: 0.0789 - lr: 0.0075 - 2s/epoch - 348ms/step\n",
      "Epoch 11/100\n",
      "5/5 - 2s - loss: 1.4620 - out1_loss: 0.7317 - out2_loss: 0.7303 - out1_iou_metric: 0.0797 - out2_iou_metric: 0.0789 - lr: 0.0068 - 2s/epoch - 338ms/step\n",
      "Epoch 12/100\n",
      "5/5 - 2s - loss: 1.4612 - out1_loss: 0.7314 - out2_loss: 0.7298 - out1_iou_metric: 0.0797 - out2_iou_metric: 0.0789 - lr: 0.0060 - 2s/epoch - 339ms/step\n",
      "Epoch 13/100\n",
      "5/5 - 2s - loss: 1.4609 - out1_loss: 0.7313 - out2_loss: 0.7296 - out1_iou_metric: 0.0796 - out2_iou_metric: 0.0789 - lr: 0.0052 - 2s/epoch - 342ms/step\n",
      "Epoch 14/100\n",
      "5/5 - 2s - loss: 1.4598 - out1_loss: 0.7309 - out2_loss: 0.7290 - out1_iou_metric: 0.0796 - out2_iou_metric: 0.0790 - lr: 0.0044 - 2s/epoch - 345ms/step\n",
      "Epoch 15/100\n",
      "5/5 - 2s - loss: 1.4599 - out1_loss: 0.7309 - out2_loss: 0.7289 - out1_iou_metric: 0.0795 - out2_iou_metric: 0.0789 - lr: 0.0036 - 2s/epoch - 337ms/step\n",
      "Epoch 16/100\n",
      "5/5 - 2s - loss: 1.4597 - out1_loss: 0.7309 - out2_loss: 0.7288 - out1_iou_metric: 0.0795 - out2_iou_metric: 0.0789 - lr: 0.0029 - 2s/epoch - 337ms/step\n",
      "Epoch 17/100\n",
      "5/5 - 2s - loss: 1.4593 - out1_loss: 0.7307 - out2_loss: 0.7286 - out1_iou_metric: 0.0795 - out2_iou_metric: 0.0789 - lr: 0.0022 - 2s/epoch - 343ms/step\n",
      "Epoch 18/100\n",
      "5/5 - 2s - loss: 1.4587 - out1_loss: 0.7304 - out2_loss: 0.7283 - out1_iou_metric: 0.0795 - out2_iou_metric: 0.0789 - lr: 0.0016 - 2s/epoch - 344ms/step\n",
      "Epoch 19/100\n",
      "5/5 - 2s - loss: 1.4589 - out1_loss: 0.7306 - out2_loss: 0.7284 - out1_iou_metric: 0.0795 - out2_iou_metric: 0.0789 - lr: 0.0012 - 2s/epoch - 370ms/step\n",
      "Epoch 20/100\n",
      "5/5 - 2s - loss: 1.4582 - out1_loss: 0.7303 - out2_loss: 0.7280 - out1_iou_metric: 0.0795 - out2_iou_metric: 0.0790 - lr: 7.9159e-04 - 2s/epoch - 343ms/step\n",
      "Epoch 21/100\n",
      "5/5 - 2s - loss: 1.4586 - out1_loss: 0.7304 - out2_loss: 0.7282 - out1_iou_metric: 0.0795 - out2_iou_metric: 0.0789 - lr: 5.1810e-04 - 2s/epoch - 340ms/step\n",
      "Epoch 22/100\n",
      "5/5 - 2s - loss: 1.4580 - out1_loss: 0.7301 - out2_loss: 0.7279 - out1_iou_metric: 0.0795 - out2_iou_metric: 0.0790 - lr: 3.2348e-04 - 2s/epoch - 343ms/step\n",
      "Epoch 23/100\n",
      "5/5 - 2s - loss: 1.4583 - out1_loss: 0.7303 - out2_loss: 0.7280 - out1_iou_metric: 0.0795 - out2_iou_metric: 0.0789 - lr: 1.9204e-04 - 2s/epoch - 344ms/step\n",
      "Epoch 24/100\n",
      "5/5 - 2s - loss: 1.4583 - out1_loss: 0.7303 - out2_loss: 0.7280 - out1_iou_metric: 0.0795 - out2_iou_metric: 0.0789 - lr: 1.0806e-04 - 2s/epoch - 348ms/step\n",
      "Epoch 25/100\n",
      "5/5 - 2s - loss: 1.4586 - out1_loss: 0.7304 - out2_loss: 0.7281 - out1_iou_metric: 0.0795 - out2_iou_metric: 0.0789 - lr: 5.7421e-05 - 2s/epoch - 344ms/step\n",
      "Epoch 26/100\n"
     ]
    },
    {
     "name": "stderr",
     "output_type": "stream",
     "text": [
      "\n",
      "KeyboardInterrupt\n",
      "\n"
     ]
    }
   ],
   "execution_count": 15
  },
  {
   "metadata": {},
   "cell_type": "code",
   "outputs": [],
   "execution_count": null,
   "source": "",
   "id": "78cc22c6b599c48c"
  },
  {
   "metadata": {},
   "cell_type": "code",
   "outputs": [],
   "execution_count": null,
   "source": "",
   "id": "1f3664507a87b45a"
  }
 ],
 "metadata": {
  "kernelspec": {
   "display_name": "Python 3",
   "language": "python",
   "name": "python3"
  },
  "language_info": {
   "codemirror_mode": {
    "name": "ipython",
    "version": 2
   },
   "file_extension": ".py",
   "mimetype": "text/x-python",
   "name": "python",
   "nbconvert_exporter": "python",
   "pygments_lexer": "ipython2",
   "version": "2.7.6"
  }
 },
 "nbformat": 4,
 "nbformat_minor": 5
}
