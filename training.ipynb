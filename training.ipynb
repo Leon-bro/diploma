{
 "cells": [
  {
   "cell_type": "code",
   "id": "initial_id",
   "metadata": {
    "collapsed": true,
    "ExecuteTime": {
     "end_time": "2024-09-10T10:42:52.783404Z",
     "start_time": "2024-09-10T10:42:52.769358Z"
    }
   },
   "source": [
    "import tensorflow as tf\n",
    "import numpy as np\n",
    "import matplotlib.pyplot as plt\n",
    "from sklearn.model_selection import train_test_split\n",
    "from custom_losses import *\n",
    "from custom_metrics import *\n",
    "\n",
    "from models import build_unet, build_w_net\n",
    "import os\n",
    "import cv2"
   ],
   "outputs": [],
   "execution_count": 16
  },
  {
   "metadata": {
    "ExecuteTime": {
     "end_time": "2024-09-10T10:42:52.828910Z",
     "start_time": "2024-09-10T10:42:52.821911Z"
    }
   },
   "cell_type": "code",
   "source": [
    "# Define paths to your dataset\n",
    "image_folder = 'DRIVE/training/images'\n",
    "label_folder = 'DRIVE/training/1st_manual'\n",
    "\n",
    "# Get list of all files in the image and label directories\n",
    "image_files = sorted(os.listdir(image_folder))\n",
    "label_files = sorted(os.listdir(label_folder))\n",
    "\n"
   ],
   "id": "16b9fee2f4e7037f",
   "outputs": [],
   "execution_count": 17
  },
  {
   "metadata": {
    "ExecuteTime": {
     "end_time": "2024-09-10T10:42:52.844916Z",
     "start_time": "2024-09-10T10:42:52.831914Z"
    }
   },
   "cell_type": "code",
   "source": [
    "# Function to preprocess images and labels\n",
    "def preprocess(image_path, label_path):\n",
    "    # Convert the TensorFlow Tensor object to a string\n",
    "    image_path = image_path.decode('utf-8')\n",
    "    label_path = label_path.decode('utf-8')\n",
    "    # Load image and label\n",
    "    image = cv2.imread(image_path)\n",
    "    label = cv2.imread(label_path, cv2.IMREAD_GRAYSCALE)\n",
    "    # Resize images and labels\n",
    "    image_resized = cv2.resize(image, (512, 512))\n",
    "    label_resized = cv2.resize(label, (512, 512))\n",
    "    \n",
    "    # Normalize images and labels\n",
    "    image_normalized = image_resized.astype(np.float32) / 255.0\n",
    "    label_normalized = label_resized.astype(np.float32) / 255.0\n",
    "    label_normalized = label_normalized[:, :, np.newaxis]\n",
    "    return image_normalized, label_normalized\n",
    "\n"
   ],
   "id": "a404fe4f32da8c39",
   "outputs": [],
   "execution_count": 18
  },
  {
   "metadata": {
    "ExecuteTime": {
     "end_time": "2024-09-10T10:42:52.860911Z",
     "start_time": "2024-09-10T10:42:52.849917Z"
    }
   },
   "cell_type": "code",
   "source": [
    "# Function to load the dataset into tf.data.Dataset\n",
    "def load_dataset(image_folder, label_folder):\n",
    "    # Create file paths\n",
    "    image_paths = [os.path.join(image_folder, f) for f in image_files]\n",
    "    label_paths = [os.path.join(label_folder, f) for f in label_files]\n",
    "    # Create a TensorFlow dataset from the file paths\n",
    "    dataset = tf.data.Dataset.from_tensor_slices((image_paths, label_paths))\n",
    "    \n",
    "    # Map the preprocessing function to each element in the dataset\n",
    "    dataset = dataset.map(lambda img_path, lbl_path: tf.numpy_function(\n",
    "                          func=preprocess, inp=[img_path, lbl_path], \n",
    "                          Tout=[tf.float32, tf.float32]))\n",
    "    \n",
    "    # Shuffle and batch the dataset\n",
    "    dataset = dataset.shuffle(buffer_size=len(image_paths))\n",
    "    dataset = dataset.batch(4)  # Set batch size to 32, modify as needed\n",
    "    \n",
    "    return dataset\n",
    "\n"
   ],
   "id": "30c38d083ec2e55",
   "outputs": [],
   "execution_count": 19
  },
  {
   "metadata": {
    "ExecuteTime": {
     "end_time": "2024-09-10T10:42:52.875910Z",
     "start_time": "2024-09-10T10:42:52.865910Z"
    }
   },
   "cell_type": "code",
   "source": "",
   "id": "ab9d043482aa5008",
   "outputs": [],
   "execution_count": 19
  },
  {
   "metadata": {
    "ExecuteTime": {
     "end_time": "2024-09-10T10:42:52.905917Z",
     "start_time": "2024-09-10T10:42:52.878916Z"
    }
   },
   "cell_type": "code",
   "source": [
    "# Load the dataset\n",
    "dataset = load_dataset(image_folder, label_folder)"
   ],
   "id": "ffaae233c084e2f",
   "outputs": [],
   "execution_count": 20
  },
  {
   "metadata": {
    "ExecuteTime": {
     "end_time": "2024-09-10T10:42:53.715488Z",
     "start_time": "2024-09-10T10:42:52.907917Z"
    }
   },
   "cell_type": "code",
   "source": [
    "for batch in dataset:\n",
    "    image, label = batch\n",
    "    for i in label:\n",
    "        print(i.shape)"
   ],
   "id": "5ab8b2b523570009",
   "outputs": [
    {
     "name": "stdout",
     "output_type": "stream",
     "text": [
      "(512, 512, 1)\n",
      "(512, 512, 1)\n",
      "(512, 512, 1)\n",
      "(512, 512, 1)\n",
      "(512, 512, 1)\n",
      "(512, 512, 1)\n",
      "(512, 512, 1)\n",
      "(512, 512, 1)\n",
      "(512, 512, 1)\n",
      "(512, 512, 1)\n",
      "(512, 512, 1)\n",
      "(512, 512, 1)\n",
      "(512, 512, 1)\n",
      "(512, 512, 1)\n",
      "(512, 512, 1)\n",
      "(512, 512, 1)\n",
      "(512, 512, 1)\n",
      "(512, 512, 1)\n",
      "(512, 512, 1)\n",
      "(512, 512, 1)\n"
     ]
    }
   ],
   "execution_count": 21
  },
  {
   "metadata": {
    "ExecuteTime": {
     "end_time": "2024-09-10T10:42:53.730663Z",
     "start_time": "2024-09-10T10:42:53.718486Z"
    }
   },
   "cell_type": "code",
   "source": [
    "num_epoch = 4000\n",
    "step = 50\n",
    "# Define the cosine annealing learning rate scheduler\n",
    "def cosine_annealing_schedule(epoch, lr):\n",
    "    initial_lr = lr  # Use the current learning rate as the initial rate\n",
    "    if lr%step == 0:\n",
    "        lr = 0.5 * initial_lr * (1 + np.cos(np.pi * (epoch) / num_epoch))\n",
    "    return lr\n",
    "\n",
    "# Create the LearningRateScheduler callback\n",
    "lr_scheduler = tf.keras.callbacks.LearningRateScheduler(cosine_annealing_schedule)"
   ],
   "id": "b5d6af6f9d126ac1",
   "outputs": [],
   "execution_count": 22
  },
  {
   "metadata": {
    "ExecuteTime": {
     "end_time": "2024-09-10T10:42:54.116427Z",
     "start_time": "2024-09-10T10:42:53.733185Z"
    }
   },
   "cell_type": "code",
   "source": [
    "wnet = build_w_net((512, 512, 3))  # Input size is 128x128 grayscale image\n",
    "wnet.summary()"
   ],
   "id": "68d7b6b93f6fa28e",
   "outputs": [
    {
     "name": "stdout",
     "output_type": "stream",
     "text": [
      "Model: \"model_1\"\n",
      "__________________________________________________________________________________________________\n",
      " Layer (type)                   Output Shape         Param #     Connected to                     \n",
      "==================================================================================================\n",
      " input_2 (InputLayer)           [(None, 512, 512, 3  0           []                               \n",
      "                                )]                                                                \n",
      "                                                                                                  \n",
      " conv2d_20 (Conv2D)             (None, 512, 512, 8)  224         ['input_2[0][0]']                \n",
      "                                                                                                  \n",
      " conv2d_21 (Conv2D)             (None, 512, 512, 8)  584         ['conv2d_20[0][0]']              \n",
      "                                                                                                  \n",
      " max_pooling2d_4 (MaxPooling2D)  (None, 256, 256, 8)  0          ['conv2d_21[0][0]']              \n",
      "                                                                                                  \n",
      " conv2d_22 (Conv2D)             (None, 256, 256, 16  1168        ['max_pooling2d_4[0][0]']        \n",
      "                                )                                                                 \n",
      "                                                                                                  \n",
      " conv2d_23 (Conv2D)             (None, 256, 256, 16  2320        ['conv2d_22[0][0]']              \n",
      "                                )                                                                 \n",
      "                                                                                                  \n",
      " max_pooling2d_5 (MaxPooling2D)  (None, 128, 128, 16  0          ['conv2d_23[0][0]']              \n",
      "                                )                                                                 \n",
      "                                                                                                  \n",
      " conv2d_24 (Conv2D)             (None, 128, 128, 32  4640        ['max_pooling2d_5[0][0]']        \n",
      "                                )                                                                 \n",
      "                                                                                                  \n",
      " conv2d_25 (Conv2D)             (None, 128, 128, 32  9248        ['conv2d_24[0][0]']              \n",
      "                                )                                                                 \n",
      "                                                                                                  \n",
      " conv2d_transpose_4 (Conv2DTran  (None, 256, 256, 16  2064       ['conv2d_25[0][0]']              \n",
      " spose)                         )                                                                 \n",
      "                                                                                                  \n",
      " concatenate_5 (Concatenate)    (None, 256, 256, 32  0           ['conv2d_transpose_4[0][0]',     \n",
      "                                )                                 'conv2d_23[0][0]']              \n",
      "                                                                                                  \n",
      " conv2d_26 (Conv2D)             (None, 256, 256, 16  4624        ['concatenate_5[0][0]']          \n",
      "                                )                                                                 \n",
      "                                                                                                  \n",
      " conv2d_27 (Conv2D)             (None, 256, 256, 16  2320        ['conv2d_26[0][0]']              \n",
      "                                )                                                                 \n",
      "                                                                                                  \n",
      " conv2d_transpose_5 (Conv2DTran  (None, 512, 512, 8)  520        ['conv2d_27[0][0]']              \n",
      " spose)                                                                                           \n",
      "                                                                                                  \n",
      " concatenate_6 (Concatenate)    (None, 512, 512, 16  0           ['conv2d_transpose_5[0][0]',     \n",
      "                                )                                 'conv2d_21[0][0]']              \n",
      "                                                                                                  \n",
      " conv2d_28 (Conv2D)             (None, 512, 512, 8)  1160        ['concatenate_6[0][0]']          \n",
      "                                                                                                  \n",
      " conv2d_29 (Conv2D)             (None, 512, 512, 8)  584         ['conv2d_28[0][0]']              \n",
      "                                                                                                  \n",
      " out1 (Conv2D)                  (None, 512, 512, 1)  9           ['conv2d_29[0][0]']              \n",
      "                                                                                                  \n",
      " concatenate_7 (Concatenate)    (None, 512, 512, 4)  0           ['input_2[0][0]',                \n",
      "                                                                  'out1[0][0]']                   \n",
      "                                                                                                  \n",
      " conv2d_30 (Conv2D)             (None, 512, 512, 8)  296         ['concatenate_7[0][0]']          \n",
      "                                                                                                  \n",
      " conv2d_31 (Conv2D)             (None, 512, 512, 8)  584         ['conv2d_30[0][0]']              \n",
      "                                                                                                  \n",
      " max_pooling2d_6 (MaxPooling2D)  (None, 256, 256, 8)  0          ['conv2d_31[0][0]']              \n",
      "                                                                                                  \n",
      " conv2d_32 (Conv2D)             (None, 256, 256, 16  1168        ['max_pooling2d_6[0][0]']        \n",
      "                                )                                                                 \n",
      "                                                                                                  \n",
      " conv2d_33 (Conv2D)             (None, 256, 256, 16  2320        ['conv2d_32[0][0]']              \n",
      "                                )                                                                 \n",
      "                                                                                                  \n",
      " max_pooling2d_7 (MaxPooling2D)  (None, 128, 128, 16  0          ['conv2d_33[0][0]']              \n",
      "                                )                                                                 \n",
      "                                                                                                  \n",
      " conv2d_34 (Conv2D)             (None, 128, 128, 32  4640        ['max_pooling2d_7[0][0]']        \n",
      "                                )                                                                 \n",
      "                                                                                                  \n",
      " conv2d_35 (Conv2D)             (None, 128, 128, 32  9248        ['conv2d_34[0][0]']              \n",
      "                                )                                                                 \n",
      "                                                                                                  \n",
      " conv2d_transpose_6 (Conv2DTran  (None, 256, 256, 16  2064       ['conv2d_35[0][0]']              \n",
      " spose)                         )                                                                 \n",
      "                                                                                                  \n",
      " concatenate_8 (Concatenate)    (None, 256, 256, 32  0           ['conv2d_transpose_6[0][0]',     \n",
      "                                )                                 'conv2d_33[0][0]']              \n",
      "                                                                                                  \n",
      " conv2d_36 (Conv2D)             (None, 256, 256, 16  4624        ['concatenate_8[0][0]']          \n",
      "                                )                                                                 \n",
      "                                                                                                  \n",
      " conv2d_37 (Conv2D)             (None, 256, 256, 16  2320        ['conv2d_36[0][0]']              \n",
      "                                )                                                                 \n",
      "                                                                                                  \n",
      " conv2d_transpose_7 (Conv2DTran  (None, 512, 512, 8)  520        ['conv2d_37[0][0]']              \n",
      " spose)                                                                                           \n",
      "                                                                                                  \n",
      " concatenate_9 (Concatenate)    (None, 512, 512, 16  0           ['conv2d_transpose_7[0][0]',     \n",
      "                                )                                 'conv2d_31[0][0]']              \n",
      "                                                                                                  \n",
      " conv2d_38 (Conv2D)             (None, 512, 512, 8)  1160        ['concatenate_9[0][0]']          \n",
      "                                                                                                  \n",
      " conv2d_39 (Conv2D)             (None, 512, 512, 8)  584         ['conv2d_38[0][0]']              \n",
      "                                                                                                  \n",
      " out2 (Conv2D)                  (None, 512, 512, 1)  9           ['conv2d_39[0][0]']              \n",
      "                                                                                                  \n",
      "==================================================================================================\n",
      "Total params: 59,002\n",
      "Trainable params: 59,002\n",
      "Non-trainable params: 0\n",
      "__________________________________________________________________________________________________\n"
     ]
    }
   ],
   "execution_count": 23
  },
  {
   "metadata": {
    "ExecuteTime": {
     "end_time": "2024-09-10T10:42:54.149883Z",
     "start_time": "2024-09-10T10:42:54.119427Z"
    }
   },
   "cell_type": "code",
   "source": [
    "\n",
    "wnet.compile(optimizer=tf.keras.optimizers.Adam(learning_rate=1E-2), loss={\"out1\":DiceLoss(), \"out2\":DiceLoss()}, metrics=[iou_metric])\n"
   ],
   "id": "c6192dbd91d1d90f",
   "outputs": [],
   "execution_count": 24
  },
  {
   "metadata": {
    "ExecuteTime": {
     "end_time": "2024-09-10T10:43:46.137565Z",
     "start_time": "2024-09-10T10:42:56.328733Z"
    }
   },
   "cell_type": "code",
   "source": [
    "early_stopping = tf.keras.callbacks.EarlyStopping(monitor='loss', patience=30, verbose=1, mode='min')\n",
    "wnet.fit(x=dataset, epochs=200, verbose=2, callbacks=[early_stopping])"
   ],
   "id": "9366cbed35a673e0",
   "outputs": [
    {
     "name": "stdout",
     "output_type": "stream",
     "text": [
      "Epoch 1/200\n",
      "5/5 - 10s - loss: 1.4571 - out1_loss: 0.7264 - out2_loss: 0.7307 - out1_iou_metric: 0.0779 - out2_iou_metric: 0.0791 - 10s/epoch - 2s/step\n",
      "Epoch 2/200\n",
      "5/5 - 2s - loss: 1.3863 - out1_loss: 0.6910 - out2_loss: 0.6953 - out1_iou_metric: 0.0725 - out2_iou_metric: 0.0770 - 2s/epoch - 337ms/step\n",
      "Epoch 3/200\n",
      "5/5 - 2s - loss: 1.3125 - out1_loss: 0.6321 - out2_loss: 0.6803 - out1_iou_metric: 0.0961 - out2_iou_metric: 0.0821 - 2s/epoch - 329ms/step\n",
      "Epoch 4/200\n",
      "5/5 - 2s - loss: 1.2687 - out1_loss: 0.6206 - out2_loss: 0.6482 - out1_iou_metric: 0.1013 - out2_iou_metric: 0.0906 - 2s/epoch - 330ms/step\n",
      "Epoch 5/200\n",
      "5/5 - 2s - loss: 1.2973 - out1_loss: 0.6182 - out2_loss: 0.6790 - out1_iou_metric: 0.1035 - out2_iou_metric: 0.0887 - 2s/epoch - 328ms/step\n",
      "Epoch 6/200\n",
      "5/5 - 2s - loss: 1.2429 - out1_loss: 0.6184 - out2_loss: 0.6245 - out1_iou_metric: 0.1052 - out2_iou_metric: 0.1055 - 2s/epoch - 331ms/step\n",
      "Epoch 7/200\n",
      "5/5 - 2s - loss: 1.2411 - out1_loss: 0.6167 - out2_loss: 0.6245 - out1_iou_metric: 0.1035 - out2_iou_metric: 0.0973 - 2s/epoch - 330ms/step\n",
      "Epoch 8/200\n",
      "5/5 - 2s - loss: 1.2319 - out1_loss: 0.6120 - out2_loss: 0.6199 - out1_iou_metric: 0.1047 - out2_iou_metric: 0.1018 - 2s/epoch - 329ms/step\n",
      "Epoch 9/200\n",
      "5/5 - 2s - loss: 1.2774 - out1_loss: 0.6081 - out2_loss: 0.6693 - out1_iou_metric: 0.1045 - out2_iou_metric: 0.0924 - 2s/epoch - 332ms/step\n",
      "Epoch 10/200\n",
      "5/5 - 2s - loss: 1.2283 - out1_loss: 0.6073 - out2_loss: 0.6210 - out1_iou_metric: 0.1069 - out2_iou_metric: 0.1036 - 2s/epoch - 332ms/step\n",
      "Epoch 11/200\n",
      "5/5 - 2s - loss: 1.2229 - out1_loss: 0.6024 - out2_loss: 0.6205 - out1_iou_metric: 0.1071 - out2_iou_metric: 0.1003 - 2s/epoch - 330ms/step\n",
      "Epoch 12/200\n",
      "5/5 - 2s - loss: 1.2529 - out1_loss: 0.6327 - out2_loss: 0.6202 - out1_iou_metric: 0.0992 - out2_iou_metric: 0.1049 - 2s/epoch - 330ms/step\n",
      "Epoch 13/200\n",
      "5/5 - 2s - loss: 1.2406 - out1_loss: 0.6217 - out2_loss: 0.6189 - out1_iou_metric: 0.1033 - out2_iou_metric: 0.1033 - 2s/epoch - 331ms/step\n",
      "Epoch 14/200\n",
      "5/5 - 2s - loss: 1.2359 - out1_loss: 0.6178 - out2_loss: 0.6181 - out1_iou_metric: 0.1059 - out2_iou_metric: 0.1027 - 2s/epoch - 328ms/step\n",
      "Epoch 15/200\n",
      "5/5 - 2s - loss: 1.2272 - out1_loss: 0.6087 - out2_loss: 0.6185 - out1_iou_metric: 0.1062 - out2_iou_metric: 0.1025 - 2s/epoch - 331ms/step\n",
      "Epoch 16/200\n",
      "5/5 - 2s - loss: 1.2242 - out1_loss: 0.6062 - out2_loss: 0.6180 - out1_iou_metric: 0.1100 - out2_iou_metric: 0.1028 - 2s/epoch - 329ms/step\n",
      "Epoch 17/200\n",
      "5/5 - 2s - loss: 1.2235 - out1_loss: 0.6052 - out2_loss: 0.6183 - out1_iou_metric: 0.1121 - out2_iou_metric: 0.1028 - 2s/epoch - 329ms/step\n",
      "Epoch 18/200\n",
      "5/5 - 2s - loss: 1.2583 - out1_loss: 0.6407 - out2_loss: 0.6176 - out1_iou_metric: 0.1126 - out2_iou_metric: 0.1025 - 2s/epoch - 329ms/step\n",
      "Epoch 19/200\n",
      "5/5 - 2s - loss: 1.2536 - out1_loss: 0.6360 - out2_loss: 0.6175 - out1_iou_metric: 0.1124 - out2_iou_metric: 0.1035 - 2s/epoch - 329ms/step\n",
      "Epoch 20/200\n",
      "5/5 - 2s - loss: 1.2501 - out1_loss: 0.6330 - out2_loss: 0.6171 - out1_iou_metric: 0.1118 - out2_iou_metric: 0.1033 - 2s/epoch - 330ms/step\n",
      "Epoch 21/200\n",
      "5/5 - 2s - loss: 1.2482 - out1_loss: 0.6312 - out2_loss: 0.6170 - out1_iou_metric: 0.1112 - out2_iou_metric: 0.1031 - 2s/epoch - 332ms/step\n",
      "Epoch 22/200\n",
      "5/5 - 2s - loss: 1.2462 - out1_loss: 0.6295 - out2_loss: 0.6167 - out1_iou_metric: 0.1108 - out2_iou_metric: 0.1026 - 2s/epoch - 328ms/step\n",
      "Epoch 23/200\n",
      "5/5 - 2s - loss: 1.2430 - out1_loss: 0.6269 - out2_loss: 0.6161 - out1_iou_metric: 0.1094 - out2_iou_metric: 0.1040 - 2s/epoch - 329ms/step\n",
      "Epoch 24/200\n",
      "5/5 - 2s - loss: 1.2385 - out1_loss: 0.6218 - out2_loss: 0.6167 - out1_iou_metric: 0.1086 - out2_iou_metric: 0.1032 - 2s/epoch - 331ms/step\n",
      "Epoch 25/200\n"
     ]
    },
    {
     "ename": "KeyboardInterrupt",
     "evalue": "",
     "output_type": "error",
     "traceback": [
      "\u001B[1;31m---------------------------------------------------------------------------\u001B[0m",
      "\u001B[1;31mKeyboardInterrupt\u001B[0m                         Traceback (most recent call last)",
      "Cell \u001B[1;32mIn[25], line 1\u001B[0m\n\u001B[1;32m----> 1\u001B[0m \u001B[43mwnet\u001B[49m\u001B[38;5;241;43m.\u001B[39;49m\u001B[43mfit\u001B[49m\u001B[43m(\u001B[49m\u001B[43mx\u001B[49m\u001B[38;5;241;43m=\u001B[39;49m\u001B[43mdataset\u001B[49m\u001B[43m,\u001B[49m\u001B[43m \u001B[49m\u001B[43mepochs\u001B[49m\u001B[38;5;241;43m=\u001B[39;49m\u001B[38;5;241;43m200\u001B[39;49m\u001B[43m,\u001B[49m\u001B[43m \u001B[49m\u001B[43mverbose\u001B[49m\u001B[38;5;241;43m=\u001B[39;49m\u001B[38;5;241;43m2\u001B[39;49m\u001B[43m)\u001B[49m\n",
      "File \u001B[1;32m~\\miniconda3\\envs\\tf\\lib\\site-packages\\keras\\utils\\traceback_utils.py:65\u001B[0m, in \u001B[0;36mfilter_traceback.<locals>.error_handler\u001B[1;34m(*args, **kwargs)\u001B[0m\n\u001B[0;32m     63\u001B[0m filtered_tb \u001B[38;5;241m=\u001B[39m \u001B[38;5;28;01mNone\u001B[39;00m\n\u001B[0;32m     64\u001B[0m \u001B[38;5;28;01mtry\u001B[39;00m:\n\u001B[1;32m---> 65\u001B[0m     \u001B[38;5;28;01mreturn\u001B[39;00m fn(\u001B[38;5;241m*\u001B[39margs, \u001B[38;5;241m*\u001B[39m\u001B[38;5;241m*\u001B[39mkwargs)\n\u001B[0;32m     66\u001B[0m \u001B[38;5;28;01mexcept\u001B[39;00m \u001B[38;5;167;01mException\u001B[39;00m \u001B[38;5;28;01mas\u001B[39;00m e:\n\u001B[0;32m     67\u001B[0m     filtered_tb \u001B[38;5;241m=\u001B[39m _process_traceback_frames(e\u001B[38;5;241m.\u001B[39m__traceback__)\n",
      "File \u001B[1;32m~\\miniconda3\\envs\\tf\\lib\\site-packages\\keras\\engine\\training.py:1564\u001B[0m, in \u001B[0;36mModel.fit\u001B[1;34m(self, x, y, batch_size, epochs, verbose, callbacks, validation_split, validation_data, shuffle, class_weight, sample_weight, initial_epoch, steps_per_epoch, validation_steps, validation_batch_size, validation_freq, max_queue_size, workers, use_multiprocessing)\u001B[0m\n\u001B[0;32m   1556\u001B[0m \u001B[38;5;28;01mwith\u001B[39;00m tf\u001B[38;5;241m.\u001B[39mprofiler\u001B[38;5;241m.\u001B[39mexperimental\u001B[38;5;241m.\u001B[39mTrace(\n\u001B[0;32m   1557\u001B[0m     \u001B[38;5;124m\"\u001B[39m\u001B[38;5;124mtrain\u001B[39m\u001B[38;5;124m\"\u001B[39m,\n\u001B[0;32m   1558\u001B[0m     epoch_num\u001B[38;5;241m=\u001B[39mepoch,\n\u001B[1;32m   (...)\u001B[0m\n\u001B[0;32m   1561\u001B[0m     _r\u001B[38;5;241m=\u001B[39m\u001B[38;5;241m1\u001B[39m,\n\u001B[0;32m   1562\u001B[0m ):\n\u001B[0;32m   1563\u001B[0m     callbacks\u001B[38;5;241m.\u001B[39mon_train_batch_begin(step)\n\u001B[1;32m-> 1564\u001B[0m     tmp_logs \u001B[38;5;241m=\u001B[39m \u001B[38;5;28;43mself\u001B[39;49m\u001B[38;5;241;43m.\u001B[39;49m\u001B[43mtrain_function\u001B[49m\u001B[43m(\u001B[49m\u001B[43miterator\u001B[49m\u001B[43m)\u001B[49m\n\u001B[0;32m   1565\u001B[0m     \u001B[38;5;28;01mif\u001B[39;00m data_handler\u001B[38;5;241m.\u001B[39mshould_sync:\n\u001B[0;32m   1566\u001B[0m         context\u001B[38;5;241m.\u001B[39masync_wait()\n",
      "File \u001B[1;32m~\\miniconda3\\envs\\tf\\lib\\site-packages\\tensorflow\\python\\util\\traceback_utils.py:150\u001B[0m, in \u001B[0;36mfilter_traceback.<locals>.error_handler\u001B[1;34m(*args, **kwargs)\u001B[0m\n\u001B[0;32m    148\u001B[0m filtered_tb \u001B[38;5;241m=\u001B[39m \u001B[38;5;28;01mNone\u001B[39;00m\n\u001B[0;32m    149\u001B[0m \u001B[38;5;28;01mtry\u001B[39;00m:\n\u001B[1;32m--> 150\u001B[0m   \u001B[38;5;28;01mreturn\u001B[39;00m fn(\u001B[38;5;241m*\u001B[39margs, \u001B[38;5;241m*\u001B[39m\u001B[38;5;241m*\u001B[39mkwargs)\n\u001B[0;32m    151\u001B[0m \u001B[38;5;28;01mexcept\u001B[39;00m \u001B[38;5;167;01mException\u001B[39;00m \u001B[38;5;28;01mas\u001B[39;00m e:\n\u001B[0;32m    152\u001B[0m   filtered_tb \u001B[38;5;241m=\u001B[39m _process_traceback_frames(e\u001B[38;5;241m.\u001B[39m__traceback__)\n",
      "File \u001B[1;32m~\\miniconda3\\envs\\tf\\lib\\site-packages\\tensorflow\\python\\eager\\def_function.py:915\u001B[0m, in \u001B[0;36mFunction.__call__\u001B[1;34m(self, *args, **kwds)\u001B[0m\n\u001B[0;32m    912\u001B[0m compiler \u001B[38;5;241m=\u001B[39m \u001B[38;5;124m\"\u001B[39m\u001B[38;5;124mxla\u001B[39m\u001B[38;5;124m\"\u001B[39m \u001B[38;5;28;01mif\u001B[39;00m \u001B[38;5;28mself\u001B[39m\u001B[38;5;241m.\u001B[39m_jit_compile \u001B[38;5;28;01melse\u001B[39;00m \u001B[38;5;124m\"\u001B[39m\u001B[38;5;124mnonXla\u001B[39m\u001B[38;5;124m\"\u001B[39m\n\u001B[0;32m    914\u001B[0m \u001B[38;5;28;01mwith\u001B[39;00m OptionalXlaContext(\u001B[38;5;28mself\u001B[39m\u001B[38;5;241m.\u001B[39m_jit_compile):\n\u001B[1;32m--> 915\u001B[0m   result \u001B[38;5;241m=\u001B[39m \u001B[38;5;28mself\u001B[39m\u001B[38;5;241m.\u001B[39m_call(\u001B[38;5;241m*\u001B[39margs, \u001B[38;5;241m*\u001B[39m\u001B[38;5;241m*\u001B[39mkwds)\n\u001B[0;32m    917\u001B[0m new_tracing_count \u001B[38;5;241m=\u001B[39m \u001B[38;5;28mself\u001B[39m\u001B[38;5;241m.\u001B[39mexperimental_get_tracing_count()\n\u001B[0;32m    918\u001B[0m without_tracing \u001B[38;5;241m=\u001B[39m (tracing_count \u001B[38;5;241m==\u001B[39m new_tracing_count)\n",
      "File \u001B[1;32m~\\miniconda3\\envs\\tf\\lib\\site-packages\\tensorflow\\python\\eager\\def_function.py:947\u001B[0m, in \u001B[0;36mFunction._call\u001B[1;34m(self, *args, **kwds)\u001B[0m\n\u001B[0;32m    944\u001B[0m   \u001B[38;5;28mself\u001B[39m\u001B[38;5;241m.\u001B[39m_lock\u001B[38;5;241m.\u001B[39mrelease()\n\u001B[0;32m    945\u001B[0m   \u001B[38;5;66;03m# In this case we have created variables on the first call, so we run the\u001B[39;00m\n\u001B[0;32m    946\u001B[0m   \u001B[38;5;66;03m# defunned version which is guaranteed to never create variables.\u001B[39;00m\n\u001B[1;32m--> 947\u001B[0m   \u001B[38;5;28;01mreturn\u001B[39;00m \u001B[38;5;28mself\u001B[39m\u001B[38;5;241m.\u001B[39m_stateless_fn(\u001B[38;5;241m*\u001B[39margs, \u001B[38;5;241m*\u001B[39m\u001B[38;5;241m*\u001B[39mkwds)  \u001B[38;5;66;03m# pylint: disable=not-callable\u001B[39;00m\n\u001B[0;32m    948\u001B[0m \u001B[38;5;28;01melif\u001B[39;00m \u001B[38;5;28mself\u001B[39m\u001B[38;5;241m.\u001B[39m_stateful_fn \u001B[38;5;129;01mis\u001B[39;00m \u001B[38;5;129;01mnot\u001B[39;00m \u001B[38;5;28;01mNone\u001B[39;00m:\n\u001B[0;32m    949\u001B[0m   \u001B[38;5;66;03m# Release the lock early so that multiple threads can perform the call\u001B[39;00m\n\u001B[0;32m    950\u001B[0m   \u001B[38;5;66;03m# in parallel.\u001B[39;00m\n\u001B[0;32m    951\u001B[0m   \u001B[38;5;28mself\u001B[39m\u001B[38;5;241m.\u001B[39m_lock\u001B[38;5;241m.\u001B[39mrelease()\n",
      "File \u001B[1;32m~\\miniconda3\\envs\\tf\\lib\\site-packages\\tensorflow\\python\\eager\\function.py:2496\u001B[0m, in \u001B[0;36mFunction.__call__\u001B[1;34m(self, *args, **kwargs)\u001B[0m\n\u001B[0;32m   2493\u001B[0m \u001B[38;5;28;01mwith\u001B[39;00m \u001B[38;5;28mself\u001B[39m\u001B[38;5;241m.\u001B[39m_lock:\n\u001B[0;32m   2494\u001B[0m   (graph_function,\n\u001B[0;32m   2495\u001B[0m    filtered_flat_args) \u001B[38;5;241m=\u001B[39m \u001B[38;5;28mself\u001B[39m\u001B[38;5;241m.\u001B[39m_maybe_define_function(args, kwargs)\n\u001B[1;32m-> 2496\u001B[0m \u001B[38;5;28;01mreturn\u001B[39;00m \u001B[43mgraph_function\u001B[49m\u001B[38;5;241;43m.\u001B[39;49m\u001B[43m_call_flat\u001B[49m\u001B[43m(\u001B[49m\n\u001B[0;32m   2497\u001B[0m \u001B[43m    \u001B[49m\u001B[43mfiltered_flat_args\u001B[49m\u001B[43m,\u001B[49m\u001B[43m \u001B[49m\u001B[43mcaptured_inputs\u001B[49m\u001B[38;5;241;43m=\u001B[39;49m\u001B[43mgraph_function\u001B[49m\u001B[38;5;241;43m.\u001B[39;49m\u001B[43mcaptured_inputs\u001B[49m\u001B[43m)\u001B[49m\n",
      "File \u001B[1;32m~\\miniconda3\\envs\\tf\\lib\\site-packages\\tensorflow\\python\\eager\\function.py:1862\u001B[0m, in \u001B[0;36mConcreteFunction._call_flat\u001B[1;34m(self, args, captured_inputs, cancellation_manager)\u001B[0m\n\u001B[0;32m   1858\u001B[0m possible_gradient_type \u001B[38;5;241m=\u001B[39m gradients_util\u001B[38;5;241m.\u001B[39mPossibleTapeGradientTypes(args)\n\u001B[0;32m   1859\u001B[0m \u001B[38;5;28;01mif\u001B[39;00m (possible_gradient_type \u001B[38;5;241m==\u001B[39m gradients_util\u001B[38;5;241m.\u001B[39mPOSSIBLE_GRADIENT_TYPES_NONE\n\u001B[0;32m   1860\u001B[0m     \u001B[38;5;129;01mand\u001B[39;00m executing_eagerly):\n\u001B[0;32m   1861\u001B[0m   \u001B[38;5;66;03m# No tape is watching; skip to running the function.\u001B[39;00m\n\u001B[1;32m-> 1862\u001B[0m   \u001B[38;5;28;01mreturn\u001B[39;00m \u001B[38;5;28mself\u001B[39m\u001B[38;5;241m.\u001B[39m_build_call_outputs(\u001B[38;5;28;43mself\u001B[39;49m\u001B[38;5;241;43m.\u001B[39;49m\u001B[43m_inference_function\u001B[49m\u001B[38;5;241;43m.\u001B[39;49m\u001B[43mcall\u001B[49m\u001B[43m(\u001B[49m\n\u001B[0;32m   1863\u001B[0m \u001B[43m      \u001B[49m\u001B[43mctx\u001B[49m\u001B[43m,\u001B[49m\u001B[43m \u001B[49m\u001B[43margs\u001B[49m\u001B[43m,\u001B[49m\u001B[43m \u001B[49m\u001B[43mcancellation_manager\u001B[49m\u001B[38;5;241;43m=\u001B[39;49m\u001B[43mcancellation_manager\u001B[49m\u001B[43m)\u001B[49m)\n\u001B[0;32m   1864\u001B[0m forward_backward \u001B[38;5;241m=\u001B[39m \u001B[38;5;28mself\u001B[39m\u001B[38;5;241m.\u001B[39m_select_forward_and_backward_functions(\n\u001B[0;32m   1865\u001B[0m     args,\n\u001B[0;32m   1866\u001B[0m     possible_gradient_type,\n\u001B[0;32m   1867\u001B[0m     executing_eagerly)\n\u001B[0;32m   1868\u001B[0m forward_function, args_with_tangents \u001B[38;5;241m=\u001B[39m forward_backward\u001B[38;5;241m.\u001B[39mforward()\n",
      "File \u001B[1;32m~\\miniconda3\\envs\\tf\\lib\\site-packages\\tensorflow\\python\\eager\\function.py:499\u001B[0m, in \u001B[0;36m_EagerDefinedFunction.call\u001B[1;34m(self, ctx, args, cancellation_manager)\u001B[0m\n\u001B[0;32m    497\u001B[0m \u001B[38;5;28;01mwith\u001B[39;00m _InterpolateFunctionError(\u001B[38;5;28mself\u001B[39m):\n\u001B[0;32m    498\u001B[0m   \u001B[38;5;28;01mif\u001B[39;00m cancellation_manager \u001B[38;5;129;01mis\u001B[39;00m \u001B[38;5;28;01mNone\u001B[39;00m:\n\u001B[1;32m--> 499\u001B[0m     outputs \u001B[38;5;241m=\u001B[39m \u001B[43mexecute\u001B[49m\u001B[38;5;241;43m.\u001B[39;49m\u001B[43mexecute\u001B[49m\u001B[43m(\u001B[49m\n\u001B[0;32m    500\u001B[0m \u001B[43m        \u001B[49m\u001B[38;5;28;43mstr\u001B[39;49m\u001B[43m(\u001B[49m\u001B[38;5;28;43mself\u001B[39;49m\u001B[38;5;241;43m.\u001B[39;49m\u001B[43msignature\u001B[49m\u001B[38;5;241;43m.\u001B[39;49m\u001B[43mname\u001B[49m\u001B[43m)\u001B[49m\u001B[43m,\u001B[49m\n\u001B[0;32m    501\u001B[0m \u001B[43m        \u001B[49m\u001B[43mnum_outputs\u001B[49m\u001B[38;5;241;43m=\u001B[39;49m\u001B[38;5;28;43mself\u001B[39;49m\u001B[38;5;241;43m.\u001B[39;49m\u001B[43m_num_outputs\u001B[49m\u001B[43m,\u001B[49m\n\u001B[0;32m    502\u001B[0m \u001B[43m        \u001B[49m\u001B[43minputs\u001B[49m\u001B[38;5;241;43m=\u001B[39;49m\u001B[43margs\u001B[49m\u001B[43m,\u001B[49m\n\u001B[0;32m    503\u001B[0m \u001B[43m        \u001B[49m\u001B[43mattrs\u001B[49m\u001B[38;5;241;43m=\u001B[39;49m\u001B[43mattrs\u001B[49m\u001B[43m,\u001B[49m\n\u001B[0;32m    504\u001B[0m \u001B[43m        \u001B[49m\u001B[43mctx\u001B[49m\u001B[38;5;241;43m=\u001B[39;49m\u001B[43mctx\u001B[49m\u001B[43m)\u001B[49m\n\u001B[0;32m    505\u001B[0m   \u001B[38;5;28;01melse\u001B[39;00m:\n\u001B[0;32m    506\u001B[0m     outputs \u001B[38;5;241m=\u001B[39m execute\u001B[38;5;241m.\u001B[39mexecute_with_cancellation(\n\u001B[0;32m    507\u001B[0m         \u001B[38;5;28mstr\u001B[39m(\u001B[38;5;28mself\u001B[39m\u001B[38;5;241m.\u001B[39msignature\u001B[38;5;241m.\u001B[39mname),\n\u001B[0;32m    508\u001B[0m         num_outputs\u001B[38;5;241m=\u001B[39m\u001B[38;5;28mself\u001B[39m\u001B[38;5;241m.\u001B[39m_num_outputs,\n\u001B[1;32m   (...)\u001B[0m\n\u001B[0;32m    511\u001B[0m         ctx\u001B[38;5;241m=\u001B[39mctx,\n\u001B[0;32m    512\u001B[0m         cancellation_manager\u001B[38;5;241m=\u001B[39mcancellation_manager)\n",
      "File \u001B[1;32m~\\miniconda3\\envs\\tf\\lib\\site-packages\\tensorflow\\python\\eager\\execute.py:54\u001B[0m, in \u001B[0;36mquick_execute\u001B[1;34m(op_name, num_outputs, inputs, attrs, ctx, name)\u001B[0m\n\u001B[0;32m     52\u001B[0m \u001B[38;5;28;01mtry\u001B[39;00m:\n\u001B[0;32m     53\u001B[0m   ctx\u001B[38;5;241m.\u001B[39mensure_initialized()\n\u001B[1;32m---> 54\u001B[0m   tensors \u001B[38;5;241m=\u001B[39m \u001B[43mpywrap_tfe\u001B[49m\u001B[38;5;241;43m.\u001B[39;49m\u001B[43mTFE_Py_Execute\u001B[49m\u001B[43m(\u001B[49m\u001B[43mctx\u001B[49m\u001B[38;5;241;43m.\u001B[39;49m\u001B[43m_handle\u001B[49m\u001B[43m,\u001B[49m\u001B[43m \u001B[49m\u001B[43mdevice_name\u001B[49m\u001B[43m,\u001B[49m\u001B[43m \u001B[49m\u001B[43mop_name\u001B[49m\u001B[43m,\u001B[49m\n\u001B[0;32m     55\u001B[0m \u001B[43m                                      \u001B[49m\u001B[43minputs\u001B[49m\u001B[43m,\u001B[49m\u001B[43m \u001B[49m\u001B[43mattrs\u001B[49m\u001B[43m,\u001B[49m\u001B[43m \u001B[49m\u001B[43mnum_outputs\u001B[49m\u001B[43m)\u001B[49m\n\u001B[0;32m     56\u001B[0m \u001B[38;5;28;01mexcept\u001B[39;00m core\u001B[38;5;241m.\u001B[39m_NotOkStatusException \u001B[38;5;28;01mas\u001B[39;00m e:\n\u001B[0;32m     57\u001B[0m   \u001B[38;5;28;01mif\u001B[39;00m name \u001B[38;5;129;01mis\u001B[39;00m \u001B[38;5;129;01mnot\u001B[39;00m \u001B[38;5;28;01mNone\u001B[39;00m:\n",
      "\u001B[1;31mKeyboardInterrupt\u001B[0m: "
     ]
    }
   ],
   "execution_count": 25
  },
  {
   "metadata": {},
   "cell_type": "code",
   "outputs": [],
   "execution_count": null,
   "source": "",
   "id": "78cc22c6b599c48c"
  },
  {
   "metadata": {},
   "cell_type": "code",
   "outputs": [],
   "execution_count": null,
   "source": "",
   "id": "1f3664507a87b45a"
  }
 ],
 "metadata": {
  "kernelspec": {
   "display_name": "Python 3",
   "language": "python",
   "name": "python3"
  },
  "language_info": {
   "codemirror_mode": {
    "name": "ipython",
    "version": 2
   },
   "file_extension": ".py",
   "mimetype": "text/x-python",
   "name": "python",
   "nbconvert_exporter": "python",
   "pygments_lexer": "ipython2",
   "version": "2.7.6"
  }
 },
 "nbformat": 4,
 "nbformat_minor": 5
}
